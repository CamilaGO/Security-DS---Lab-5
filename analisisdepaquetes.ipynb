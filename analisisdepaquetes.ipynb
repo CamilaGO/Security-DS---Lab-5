{
  "nbformat": 4,
  "nbformat_minor": 0,
  "metadata": {
    "colab": {
      "name": "Untitled1.ipynb",
      "provenance": []
    },
    "kernelspec": {
      "name": "python3",
      "display_name": "Python 3"
    },
    "language_info": {
      "name": "python"
    }
  },
  "cells": [
    {
      "cell_type": "code",
      "execution_count": 3,
      "metadata": {
        "colab": {
          "base_uri": "https://localhost:8080/"
        },
        "id": "RKV3_GmoKdQj",
        "outputId": "5b29e554-c242-49c9-9ce4-24022cf777ba"
      },
      "outputs": [
        {
          "output_type": "stream",
          "name": "stdout",
          "text": [
            "Requirement already satisfied: scapy in /usr/local/lib/python3.7/dist-packages (2.4.5)\n"
          ]
        }
      ],
      "source": [
        "pip install scapy"
      ]
    },
    {
      "cell_type": "code",
      "source": [
        "from scapy.all import * # Packet manipulation\n",
        "import pandas as pd # Pandas - Create and Manipulate DataFrames\n",
        "import numpy as np # Math Stuff (don't worry only used for one line :] )\n",
        "import binascii # Binary to Ascii \n",
        "import seaborn as sns\n",
        "sns.set(color_codes=True)\n",
        "%matplotlib inline"
      ],
      "metadata": {
        "id": "ABLRbWDZKjqH"
      },
      "execution_count": 2,
      "outputs": []
    },
    {
      "cell_type": "markdown",
      "source": [
        "### Se capturan 100 paquetes"
      ],
      "metadata": {
        "id": "sQ5Um7H1Mfqs"
      }
    },
    {
      "cell_type": "code",
      "source": [
        "num_of_packets_to_sniff = 100\n",
        "pcap = sniff(count=num_of_packets_to_sniff)\n",
        "\n",
        "# rdpcap returns packet list\n",
        "## packetlist object can be enumerated \n",
        "print(type(pcap))\n",
        "print(len(pcap))\n",
        "print(pcap)\n",
        "pcap[0]"
      ],
      "metadata": {
        "colab": {
          "base_uri": "https://localhost:8080/"
        },
        "id": "E5Skjv-sKmFy",
        "outputId": "8d066e2a-6d94-43a7-eae5-6e5ae451fb37"
      },
      "execution_count": 4,
      "outputs": [
        {
          "output_type": "stream",
          "name": "stdout",
          "text": [
            "<class 'scapy.plist.PacketList'>\n",
            "100\n",
            "<Sniffed: TCP:100 UDP:0 ICMP:0 Other:0>\n"
          ]
        },
        {
          "output_type": "execute_result",
          "data": {
            "text/plain": [
              "<Ether  dst=02:42:ac:1c:00:03 src=02:42:ac:1c:00:02 type=IPv4 |<IP  version=4 ihl=5 tos=0x0 len=905 id=59503 flags=DF frag=0 ttl=64 proto=6 chksum=0xf6c1 src=172.28.0.2 dst=172.28.0.3 |<TCP  sport=9000 dport=32860 seq=2094273608 ack=4095417590 dataofs=8 reserved=0 flags=PA window=501 chksum=0x5bb9 urgptr=0 options=[('NOP', None), ('NOP', None), ('Timestamp', (3649575911, 3950154248))] |<Raw  load='\\\\x81~\\x03Q{\"header\": {\"msg_id\": \"d58f3b7d-f43d96cf7eb2647100805a9e\", \"msg_type\": \"execute_input\", \"username\": \"username\", \"session\": \"6d359399-bdc83f1d36ee2df0c676c17c\", \"date\": \"2022-04-02T02:46:50.850530Z\", \"version\": \"5.3\"}, \"msg_id\": \"d58f3b7d-f43d96cf7eb2647100805a9e\", \"msg_type\": \"execute_input\", \"parent_header\": {\"msg_id\": \"52b9c15e87fa4f73dd632cb551de420e\", \"username\": \"username\", \"session\": \"2f86c1feab0742b7d7577c86c32fbee1\", \"msg_type\": \"execute_request\", \"version\": \"5.0\", \"date\": \"2022-04-02T02:46:50.846159Z\"}, \"metadata\": {}, \"content\": {\"code\": \"# Se capturan 100 paquetes\\\\nnum_of_packets_to_sniff = 100\\\\npcap = sniff(count=num_of_packets_to_sniff)\\\\n\\\\n# rdpcap returns packet list\\\\n## packetlist object can be enumerated \\\\nprint(type(pcap))\\\\nprint(len(pcap))\\\\nprint(pcap)\\\\npcap[0]\", \"execution_count\": 4}, \"buffers\": [], \"channel\": \"iopub\"}' |>>>>"
            ]
          },
          "metadata": {},
          "execution_count": 4
        }
      ]
    },
    {
      "cell_type": "code",
      "source": [
        "# TCP\n",
        "\"\"\"\n",
        "0                   1                   2                   3\n",
        "0 1 2 3 4 5 6 7 8 9 0 1 2 3 4 5 6 7 8 9 0 1 2 3 4 5 6 7 8 9 0 1\n",
        "+-+-+-+-+-+-+-+-+-+-+-+-+-+-+-+-+-+-+-+-+-+-+-+-+-+-+-+-+-+-+-+-+\n",
        "|          Source Port          |       Destination Port        |\n",
        "+-+-+-+-+-+-+-+-+-+-+-+-+-+-+-+-+-+-+-+-+-+-+-+-+-+-+-+-+-+-+-+-+\n",
        "|                        Sequence Number                        |\n",
        "+-+-+-+-+-+-+-+-+-+-+-+-+-+-+-+-+-+-+-+-+-+-+-+-+-+-+-+-+-+-+-+-+\n",
        "|                    Acknowledgment Number                      |\n",
        "+-+-+-+-+-+-+-+-+-+-+-+-+-+-+-+-+-+-+-+-+-+-+-+-+-+-+-+-+-+-+-+-+\n",
        "|  Data |           |U|A|P|R|S|F|                               |\n",
        "| Offset| Reserved  |R|C|S|S|Y|I|            Window             |\n",
        "|       |           |G|K|H|T|N|N|                               |\n",
        "+-+-+-+-+-+-+-+-+-+-+-+-+-+-+-+-+-+-+-+-+-+-+-+-+-+-+-+-+-+-+-+-+\n",
        "|           Checksum            |         Urgent Pointer        |\n",
        "+-+-+-+-+-+-+-+-+-+-+-+-+-+-+-+-+-+-+-+-+-+-+-+-+-+-+-+-+-+-+-+-+\n",
        "|                    Options                    |    Padding    |\n",
        "+-+-+-+-+-+-+-+-+-+-+-+-+-+-+-+-+-+-+-+-+-+-+-+-+-+-+-+-+-+-+-+-+\n",
        "|                             data                              |\n",
        "+-+-+-+-+-+-+-+-+-+-+-+-+-+-+-+-+-+-+-+-+-+-+-+-+-+-+-+-+-+-+-+-+\n",
        "02 04 05 a0 01 03 03 05 01 01 08 0a 1d 74 65 c5 00 00 00 00 04 02 00 00\n",
        "\"\"\"\n",
        "\n",
        "print()"
      ],
      "metadata": {
        "colab": {
          "base_uri": "https://localhost:8080/"
        },
        "id": "KnOA_0bNK22v",
        "outputId": "0bd6dea8-3d29-400a-98f1-458d31b8016a"
      },
      "execution_count": 5,
      "outputs": [
        {
          "output_type": "stream",
          "name": "stdout",
          "text": [
            "\n"
          ]
        }
      ]
    },
    {
      "cell_type": "markdown",
      "source": [
        "### Exploración de paquetes capturados"
      ],
      "metadata": {
        "id": "RT-x4TyOLFFJ"
      }
    },
    {
      "cell_type": "code",
      "source": [
        "#Recordemos que en los modelos de red, las capas inferiores encapsulan la información de las capas superiores\n",
        "#Frames en paquetes, paquetes en segmentos (Ethernet, IP), modelo TCP/IP\n",
        "\n",
        "ethernet_frame = pcap[0]\n",
        "ip_packet = ethernet_frame.payload\n",
        "segment = ip_packet.payload\n",
        "data = segment.payload #recupera la informacion de la capa 4\n",
        "\n",
        "print(\"Informacion del frame:\")\n",
        "print(ethernet_frame.summary())\n",
        "\n",
        "print(\"Informacion del paquete:\")\n",
        "print(ip_packet.summary())\n",
        "\n",
        "print(\"Informacion del segmento:\")\n",
        "print(segment.summary())\n",
        "\n",
        "print(\"Data:\")\n",
        "print(data.summary())\n",
        "\n",
        "ethernet_frame.show()\n",
        "data.show()"
      ],
      "metadata": {
        "colab": {
          "base_uri": "https://localhost:8080/"
        },
        "id": "Qf-pfMJUK-XT",
        "outputId": "2bdb7bee-65fa-4c54-a90c-4c748567169f"
      },
      "execution_count": 6,
      "outputs": [
        {
          "output_type": "stream",
          "name": "stdout",
          "text": [
            "Informacion del frame:\n",
            "Ether / IP / TCP 172.28.0.2:9000 > 172.28.0.3:32860 PA / Raw\n",
            "Informacion del paquete:\n",
            "IP / TCP 172.28.0.2:9000 > 172.28.0.3:32860 PA / Raw\n",
            "Informacion del segmento:\n",
            "TCP 172.28.0.2:9000 > 172.28.0.3:32860 PA / Raw\n",
            "Data:\n",
            "Raw\n",
            "###[ Ethernet ]### \n",
            "  dst       = 02:42:ac:1c:00:03\n",
            "  src       = 02:42:ac:1c:00:02\n",
            "  type      = IPv4\n",
            "###[ IP ]### \n",
            "     version   = 4\n",
            "     ihl       = 5\n",
            "     tos       = 0x0\n",
            "     len       = 905\n",
            "     id        = 59503\n",
            "     flags     = DF\n",
            "     frag      = 0\n",
            "     ttl       = 64\n",
            "     proto     = 6\n",
            "     chksum    = 0xf6c1\n",
            "     src       = 172.28.0.2\n",
            "     dst       = 172.28.0.3\n",
            "     \\options   \\\n",
            "###[ TCP ]### \n",
            "        sport     = 9000\n",
            "        dport     = 32860\n",
            "        seq       = 2094273608\n",
            "        ack       = 4095417590\n",
            "        dataofs   = 8\n",
            "        reserved  = 0\n",
            "        flags     = PA\n",
            "        window    = 501\n",
            "        chksum    = 0x5bb9\n",
            "        urgptr    = 0\n",
            "        options   = [('NOP', None), ('NOP', None), ('Timestamp', (3649575911, 3950154248))]\n",
            "###[ Raw ]### \n",
            "           load      = '\\\\x81~\\x03Q{\"header\": {\"msg_id\": \"d58f3b7d-f43d96cf7eb2647100805a9e\", \"msg_type\": \"execute_input\", \"username\": \"username\", \"session\": \"6d359399-bdc83f1d36ee2df0c676c17c\", \"date\": \"2022-04-02T02:46:50.850530Z\", \"version\": \"5.3\"}, \"msg_id\": \"d58f3b7d-f43d96cf7eb2647100805a9e\", \"msg_type\": \"execute_input\", \"parent_header\": {\"msg_id\": \"52b9c15e87fa4f73dd632cb551de420e\", \"username\": \"username\", \"session\": \"2f86c1feab0742b7d7577c86c32fbee1\", \"msg_type\": \"execute_request\", \"version\": \"5.0\", \"date\": \"2022-04-02T02:46:50.846159Z\"}, \"metadata\": {}, \"content\": {\"code\": \"# Se capturan 100 paquetes\\\\nnum_of_packets_to_sniff = 100\\\\npcap = sniff(count=num_of_packets_to_sniff)\\\\n\\\\n# rdpcap returns packet list\\\\n## packetlist object can be enumerated \\\\nprint(type(pcap))\\\\nprint(len(pcap))\\\\nprint(pcap)\\\\npcap[0]\", \"execution_count\": 4}, \"buffers\": [], \"channel\": \"iopub\"}'\n",
            "\n",
            "###[ Raw ]### \n",
            "  load      = '\\\\x81~\\x03Q{\"header\": {\"msg_id\": \"d58f3b7d-f43d96cf7eb2647100805a9e\", \"msg_type\": \"execute_input\", \"username\": \"username\", \"session\": \"6d359399-bdc83f1d36ee2df0c676c17c\", \"date\": \"2022-04-02T02:46:50.850530Z\", \"version\": \"5.3\"}, \"msg_id\": \"d58f3b7d-f43d96cf7eb2647100805a9e\", \"msg_type\": \"execute_input\", \"parent_header\": {\"msg_id\": \"52b9c15e87fa4f73dd632cb551de420e\", \"username\": \"username\", \"session\": \"2f86c1feab0742b7d7577c86c32fbee1\", \"msg_type\": \"execute_request\", \"version\": \"5.0\", \"date\": \"2022-04-02T02:46:50.846159Z\"}, \"metadata\": {}, \"content\": {\"code\": \"# Se capturan 100 paquetes\\\\nnum_of_packets_to_sniff = 100\\\\npcap = sniff(count=num_of_packets_to_sniff)\\\\n\\\\n# rdpcap returns packet list\\\\n## packetlist object can be enumerated \\\\nprint(type(pcap))\\\\nprint(len(pcap))\\\\nprint(pcap)\\\\npcap[0]\", \"execution_count\": 4}, \"buffers\": [], \"channel\": \"iopub\"}'\n",
            "\n"
          ]
        }
      ]
    },
    {
      "cell_type": "markdown",
      "source": [
        "### Tipos de datos registrados con Scapy"
      ],
      "metadata": {
        "id": "CVc-2N9FLXiW"
      }
    },
    {
      "cell_type": "code",
      "source": [
        "print(type(ethernet_frame))\n",
        "print(type(ip_packet))\n",
        "print(type(segment))\n",
        "\n",
        "# Packets can be filtered on layers ie) ethernet_frame[scapy.layers.l2.Ether]\n",
        "ethernet_type = type(ethernet_frame)\n",
        "ip_type = type(ip_packet)\n",
        "tcp_type = type(segment)\n",
        "print(\"Ethernet\",pcap[ethernet_type])\n",
        "print(\"IP\", pcap[ip_type])\n",
        "print(\"TCP\", pcap[tcp_type])\n",
        "\n",
        "# Scapy provides this via import statements\n",
        "from scapy.layers.l2 import Ether\n",
        "from scapy.layers.inet import IP\n",
        "from scapy.layers.inet import TCP, UDP\n",
        "\n",
        "print(\"UDP\", pcap[UDP])"
      ],
      "metadata": {
        "colab": {
          "base_uri": "https://localhost:8080/"
        },
        "id": "ZNEXnWJgLdd8",
        "outputId": "1903e61d-6b00-44d6-8de4-a9a9376f276f"
      },
      "execution_count": 7,
      "outputs": [
        {
          "output_type": "stream",
          "name": "stdout",
          "text": [
            "<class 'scapy.layers.l2.Ether'>\n",
            "<class 'scapy.layers.inet.IP'>\n",
            "<class 'scapy.layers.inet.TCP'>\n",
            "Ethernet <Ether from Sniffed: TCP:100 UDP:0 ICMP:0 Other:0>\n",
            "IP <IP from Sniffed: TCP:100 UDP:0 ICMP:0 Other:0>\n",
            "TCP <TCP from Sniffed: TCP:100 UDP:0 ICMP:0 Other:0>\n",
            "UDP <UDP from Sniffed: TCP:0 UDP:0 ICMP:0 Other:0>\n"
          ]
        }
      ]
    },
    {
      "cell_type": "markdown",
      "source": [
        "### Se guarda la info en un Data Set"
      ],
      "metadata": {
        "id": "GxXaK_tWLtqb"
      }
    },
    {
      "cell_type": "code",
      "source": [
        "# Obtenemos los campos de IP/TCP/UDP que seran las columnas de nuestro DF\n",
        "ip_fields = [field.name for field in IP().fields_desc]\n",
        "tcp_fields = [field.name for field in TCP().fields_desc]\n",
        "udp_fields = [field.name for field in UDP().fields_desc]\n",
        "\n",
        "#Concatenamos todos los campos\n",
        "dataframe_fields = ip_fields + ['time'] + tcp_fields + ['payload','payload_raw','payload_hex']\n",
        "\n",
        "# Creamos un DF en blanco con los campos como columnas\n",
        "df = pd.DataFrame(columns=dataframe_fields)\n",
        "for packet in pcap[IP]:\n",
        "    # Obtenemos los valores de los campos de cada fila\n",
        "    field_values = []\n",
        "    # A;adimos todos los valores de los campos de IP al df\n",
        "    for field in ip_fields:\n",
        "        if field == 'options':\n",
        "            # Obtenemos el numero de opciones del IP Header\n",
        "            field_values.append(len(packet[IP].fields[field]))\n",
        "        else:\n",
        "            field_values.append(packet[IP].fields[field])\n",
        "    \n",
        "    field_values.append(packet.time)\n",
        "    \n",
        "    layer_type = type(packet[IP].payload)\n",
        "    for field in tcp_fields:\n",
        "        try:\n",
        "            if field == 'options':\n",
        "                field_values.append(len(packet[layer_type].fields[field]))\n",
        "            else:\n",
        "                field_values.append(packet[layer_type].fields[field])\n",
        "        except:\n",
        "            field_values.append(None)\n",
        "    \n",
        "    # Agregamos el payload\n",
        "    field_values.append(len(packet[layer_type].payload))\n",
        "    field_values.append(packet[layer_type].payload.original)\n",
        "    field_values.append(binascii.hexlify(packet[layer_type].payload.original))\n",
        "    # Agregamos la fila al df\n",
        "    df_append = pd.DataFrame([field_values], columns=dataframe_fields)\n",
        "    df = pd.concat([df, df_append], axis=0)\n",
        "\n",
        "# Reset Index\n",
        "df = df.reset_index()\n",
        "# Drop old index column\n",
        "df = df.drop(columns=\"index\")\n",
        "\n",
        "print(df.head(5))"
      ],
      "metadata": {
        "colab": {
          "base_uri": "https://localhost:8080/"
        },
        "id": "OxTmw0J2Lsp9",
        "outputId": "04820784-7a41-4d61-e5d9-a5d2c697af97"
      },
      "execution_count": 8,
      "outputs": [
        {
          "output_type": "stream",
          "name": "stdout",
          "text": [
            "  version ihl tos  len     id flags frag ttl proto chksum  ... dataofs  \\\n",
            "0       4   5   0  905  59503    DF    0  64     6  63169  ...       8   \n",
            "1       4   5   0   52  53876    DF    0  64     6   4114  ...       8   \n",
            "2       4   5   0  905  55766    DF    0  64     6   1371  ...       8   \n",
            "3       4   5   0   52  36601    DF    0  64     6  21389  ...       8   \n",
            "4       4   5   0  984  14683    DF    0  64     6  42377  ...       8   \n",
            "\n",
            "  reserved flags  window chksum urgptr options payload  \\\n",
            "0        0    PA     501  23481      0       3     853   \n",
            "1        0     A     501  22628      0       3       0   \n",
            "2        0    PA     501  23481      0       3     853   \n",
            "3        0     A     501  22628      0       3       0   \n",
            "4        0    PA     501  23558      0       3     932   \n",
            "\n",
            "                                         payload_raw  \\\n",
            "0  b'\\x81~\\x03Q{\"header\": {\"msg_id\": \"d58f3b7d-f4...   \n",
            "1                                                b''   \n",
            "2  b'\\x81~\\x03Q{\"header\": {\"msg_id\": \"d58f3b7d-f4...   \n",
            "3                                                b''   \n",
            "4  b'HTTP/1.1 200 OK\\r\\nContent-Type: text/plain;...   \n",
            "\n",
            "                                         payload_hex  \n",
            "0  b'817e03517b22686561646572223a207b226d73675f69...  \n",
            "1                                                b''  \n",
            "2  b'817e03517b22686561646572223a207b226d73675f69...  \n",
            "3                                                b''  \n",
            "4  b'485454502f312e3120323030204f4b0d0a436f6e7465...  \n",
            "\n",
            "[5 rows x 28 columns]\n"
          ]
        }
      ]
    },
    {
      "cell_type": "code",
      "source": [
        "df[['src','dst','sport','dport']]"
      ],
      "metadata": {
        "colab": {
          "base_uri": "https://localhost:8080/",
          "height": 423
        },
        "id": "m8XIXSjzL6EG",
        "outputId": "9e20021d-6aee-4c62-dee2-a7a535b10227"
      },
      "execution_count": 9,
      "outputs": [
        {
          "output_type": "execute_result",
          "data": {
            "text/plain": [
              "           src         dst  sport  dport\n",
              "0   172.28.0.2  172.28.0.3   9000  32860\n",
              "1   172.28.0.3  172.28.0.2  32860   9000\n",
              "2   172.28.0.3  172.28.0.2   6000  51000\n",
              "3   172.28.0.2  172.28.0.3  51000   6000\n",
              "4   172.28.0.2  172.28.0.1   8080  60872\n",
              "..         ...         ...    ...    ...\n",
              "95  172.28.0.2  172.28.0.1   8080  32824\n",
              "96  172.28.0.1  172.28.0.2  32824   8080\n",
              "97  172.28.0.2  172.28.0.3  51646   6000\n",
              "98  172.28.0.3  172.28.0.2   6000  51646\n",
              "99  172.28.0.2  172.28.0.1   8080  32824\n",
              "\n",
              "[100 rows x 4 columns]"
            ],
            "text/html": [
              "\n",
              "  <div id=\"df-728ec60f-838a-44ee-a181-501730504df0\">\n",
              "    <div class=\"colab-df-container\">\n",
              "      <div>\n",
              "<style scoped>\n",
              "    .dataframe tbody tr th:only-of-type {\n",
              "        vertical-align: middle;\n",
              "    }\n",
              "\n",
              "    .dataframe tbody tr th {\n",
              "        vertical-align: top;\n",
              "    }\n",
              "\n",
              "    .dataframe thead th {\n",
              "        text-align: right;\n",
              "    }\n",
              "</style>\n",
              "<table border=\"1\" class=\"dataframe\">\n",
              "  <thead>\n",
              "    <tr style=\"text-align: right;\">\n",
              "      <th></th>\n",
              "      <th>src</th>\n",
              "      <th>dst</th>\n",
              "      <th>sport</th>\n",
              "      <th>dport</th>\n",
              "    </tr>\n",
              "  </thead>\n",
              "  <tbody>\n",
              "    <tr>\n",
              "      <th>0</th>\n",
              "      <td>172.28.0.2</td>\n",
              "      <td>172.28.0.3</td>\n",
              "      <td>9000</td>\n",
              "      <td>32860</td>\n",
              "    </tr>\n",
              "    <tr>\n",
              "      <th>1</th>\n",
              "      <td>172.28.0.3</td>\n",
              "      <td>172.28.0.2</td>\n",
              "      <td>32860</td>\n",
              "      <td>9000</td>\n",
              "    </tr>\n",
              "    <tr>\n",
              "      <th>2</th>\n",
              "      <td>172.28.0.3</td>\n",
              "      <td>172.28.0.2</td>\n",
              "      <td>6000</td>\n",
              "      <td>51000</td>\n",
              "    </tr>\n",
              "    <tr>\n",
              "      <th>3</th>\n",
              "      <td>172.28.0.2</td>\n",
              "      <td>172.28.0.3</td>\n",
              "      <td>51000</td>\n",
              "      <td>6000</td>\n",
              "    </tr>\n",
              "    <tr>\n",
              "      <th>4</th>\n",
              "      <td>172.28.0.2</td>\n",
              "      <td>172.28.0.1</td>\n",
              "      <td>8080</td>\n",
              "      <td>60872</td>\n",
              "    </tr>\n",
              "    <tr>\n",
              "      <th>...</th>\n",
              "      <td>...</td>\n",
              "      <td>...</td>\n",
              "      <td>...</td>\n",
              "      <td>...</td>\n",
              "    </tr>\n",
              "    <tr>\n",
              "      <th>95</th>\n",
              "      <td>172.28.0.2</td>\n",
              "      <td>172.28.0.1</td>\n",
              "      <td>8080</td>\n",
              "      <td>32824</td>\n",
              "    </tr>\n",
              "    <tr>\n",
              "      <th>96</th>\n",
              "      <td>172.28.0.1</td>\n",
              "      <td>172.28.0.2</td>\n",
              "      <td>32824</td>\n",
              "      <td>8080</td>\n",
              "    </tr>\n",
              "    <tr>\n",
              "      <th>97</th>\n",
              "      <td>172.28.0.2</td>\n",
              "      <td>172.28.0.3</td>\n",
              "      <td>51646</td>\n",
              "      <td>6000</td>\n",
              "    </tr>\n",
              "    <tr>\n",
              "      <th>98</th>\n",
              "      <td>172.28.0.3</td>\n",
              "      <td>172.28.0.2</td>\n",
              "      <td>6000</td>\n",
              "      <td>51646</td>\n",
              "    </tr>\n",
              "    <tr>\n",
              "      <th>99</th>\n",
              "      <td>172.28.0.2</td>\n",
              "      <td>172.28.0.1</td>\n",
              "      <td>8080</td>\n",
              "      <td>32824</td>\n",
              "    </tr>\n",
              "  </tbody>\n",
              "</table>\n",
              "<p>100 rows × 4 columns</p>\n",
              "</div>\n",
              "      <button class=\"colab-df-convert\" onclick=\"convertToInteractive('df-728ec60f-838a-44ee-a181-501730504df0')\"\n",
              "              title=\"Convert this dataframe to an interactive table.\"\n",
              "              style=\"display:none;\">\n",
              "        \n",
              "  <svg xmlns=\"http://www.w3.org/2000/svg\" height=\"24px\"viewBox=\"0 0 24 24\"\n",
              "       width=\"24px\">\n",
              "    <path d=\"M0 0h24v24H0V0z\" fill=\"none\"/>\n",
              "    <path d=\"M18.56 5.44l.94 2.06.94-2.06 2.06-.94-2.06-.94-.94-2.06-.94 2.06-2.06.94zm-11 1L8.5 8.5l.94-2.06 2.06-.94-2.06-.94L8.5 2.5l-.94 2.06-2.06.94zm10 10l.94 2.06.94-2.06 2.06-.94-2.06-.94-.94-2.06-.94 2.06-2.06.94z\"/><path d=\"M17.41 7.96l-1.37-1.37c-.4-.4-.92-.59-1.43-.59-.52 0-1.04.2-1.43.59L10.3 9.45l-7.72 7.72c-.78.78-.78 2.05 0 2.83L4 21.41c.39.39.9.59 1.41.59.51 0 1.02-.2 1.41-.59l7.78-7.78 2.81-2.81c.8-.78.8-2.07 0-2.86zM5.41 20L4 18.59l7.72-7.72 1.47 1.35L5.41 20z\"/>\n",
              "  </svg>\n",
              "      </button>\n",
              "      \n",
              "  <style>\n",
              "    .colab-df-container {\n",
              "      display:flex;\n",
              "      flex-wrap:wrap;\n",
              "      gap: 12px;\n",
              "    }\n",
              "\n",
              "    .colab-df-convert {\n",
              "      background-color: #E8F0FE;\n",
              "      border: none;\n",
              "      border-radius: 50%;\n",
              "      cursor: pointer;\n",
              "      display: none;\n",
              "      fill: #1967D2;\n",
              "      height: 32px;\n",
              "      padding: 0 0 0 0;\n",
              "      width: 32px;\n",
              "    }\n",
              "\n",
              "    .colab-df-convert:hover {\n",
              "      background-color: #E2EBFA;\n",
              "      box-shadow: 0px 1px 2px rgba(60, 64, 67, 0.3), 0px 1px 3px 1px rgba(60, 64, 67, 0.15);\n",
              "      fill: #174EA6;\n",
              "    }\n",
              "\n",
              "    [theme=dark] .colab-df-convert {\n",
              "      background-color: #3B4455;\n",
              "      fill: #D2E3FC;\n",
              "    }\n",
              "\n",
              "    [theme=dark] .colab-df-convert:hover {\n",
              "      background-color: #434B5C;\n",
              "      box-shadow: 0px 1px 3px 1px rgba(0, 0, 0, 0.15);\n",
              "      filter: drop-shadow(0px 1px 2px rgba(0, 0, 0, 0.3));\n",
              "      fill: #FFFFFF;\n",
              "    }\n",
              "  </style>\n",
              "\n",
              "      <script>\n",
              "        const buttonEl =\n",
              "          document.querySelector('#df-728ec60f-838a-44ee-a181-501730504df0 button.colab-df-convert');\n",
              "        buttonEl.style.display =\n",
              "          google.colab.kernel.accessAllowed ? 'block' : 'none';\n",
              "\n",
              "        async function convertToInteractive(key) {\n",
              "          const element = document.querySelector('#df-728ec60f-838a-44ee-a181-501730504df0');\n",
              "          const dataTable =\n",
              "            await google.colab.kernel.invokeFunction('convertToInteractive',\n",
              "                                                     [key], {});\n",
              "          if (!dataTable) return;\n",
              "\n",
              "          const docLinkHtml = 'Like what you see? Visit the ' +\n",
              "            '<a target=\"_blank\" href=https://colab.research.google.com/notebooks/data_table.ipynb>data table notebook</a>'\n",
              "            + ' to learn more about interactive tables.';\n",
              "          element.innerHTML = '';\n",
              "          dataTable['output_type'] = 'display_data';\n",
              "          await google.colab.output.renderOutput(dataTable, element);\n",
              "          const docLink = document.createElement('div');\n",
              "          docLink.innerHTML = docLinkHtml;\n",
              "          element.appendChild(docLink);\n",
              "        }\n",
              "      </script>\n",
              "    </div>\n",
              "  </div>\n",
              "  "
            ]
          },
          "metadata": {},
          "execution_count": 9
        }
      ]
    },
    {
      "cell_type": "code",
      "source": [
        "#Calcular estadisticas\n",
        "print(\"# Top Source Address\")\n",
        "print(df['src'].describe(),'\\n\\n')"
      ],
      "metadata": {
        "colab": {
          "base_uri": "https://localhost:8080/"
        },
        "id": "BuZHwtL0L-ce",
        "outputId": "0654dfcc-7b90-4fdd-e2e3-11371d17c785"
      },
      "execution_count": 10,
      "outputs": [
        {
          "output_type": "stream",
          "name": "stdout",
          "text": [
            "# Top Source Address\n",
            "count            100\n",
            "unique             3\n",
            "top       172.28.0.2\n",
            "freq              48\n",
            "Name: src, dtype: object \n",
            "\n",
            "\n"
          ]
        }
      ]
    },
    {
      "cell_type": "code",
      "source": [
        "#¿Quien es la IP de origen mas frecuente?\n",
        "frequent_address = df['src'].describe()['top']\n",
        "\n",
        "\n",
        "# A que IPs les habla la IP mas frecuente\n",
        "print(df[df['src'] == frequent_address]['dst'].unique(),\"\\n\\n\")"
      ],
      "metadata": {
        "colab": {
          "base_uri": "https://localhost:8080/"
        },
        "id": "W4kovrg8MCBI",
        "outputId": "b9cdb131-c4d0-4b64-cd83-96ec1aa9afbc"
      },
      "execution_count": 11,
      "outputs": [
        {
          "output_type": "stream",
          "name": "stdout",
          "text": [
            "['172.28.0.3' '172.28.0.1'] \n",
            "\n",
            "\n"
          ]
        }
      ]
    },
    {
      "cell_type": "code",
      "source": [
        "print(df)"
      ],
      "metadata": {
        "colab": {
          "base_uri": "https://localhost:8080/"
        },
        "id": "6imiFqQeO9AG",
        "outputId": "bc92a039-3c74-4e49-c837-1ace3781d78e"
      },
      "execution_count": 14,
      "outputs": [
        {
          "output_type": "stream",
          "name": "stdout",
          "text": [
            "   version ihl tos  len     id flags frag ttl proto chksum  ... dataofs  \\\n",
            "0        4   5   0  905  59503    DF    0  64     6  63169  ...       8   \n",
            "1        4   5   0   52  53876    DF    0  64     6   4114  ...       8   \n",
            "2        4   5   0  905  55766    DF    0  64     6   1371  ...       8   \n",
            "3        4   5   0   52  36601    DF    0  64     6  21389  ...       8   \n",
            "4        4   5   0  984  14683    DF    0  64     6  42377  ...       8   \n",
            "..     ...  ..  ..  ...    ...   ...  ...  ..   ...    ...  ...     ...   \n",
            "95       4   5   0  891  32659    DF    0  64     6  24494  ...       8   \n",
            "96       4   5   0   52  11022    DF    0  64     6  46970  ...       8   \n",
            "97       4   5   0   52  57070    DF    0  64     6    920  ...       8   \n",
            "98       4   5   0   52  26898    DF    0  64     6  31092  ...       8   \n",
            "99       4   5   0   52  32660    DF    0  64     6  25332  ...       8   \n",
            "\n",
            "   reserved flags  window chksum urgptr options payload  \\\n",
            "0         0    PA     501  23481      0       3     853   \n",
            "1         0     A     501  22628      0       3       0   \n",
            "2         0    PA     501  23481      0       3     853   \n",
            "3         0     A     501  22628      0       3       0   \n",
            "4         0    PA     501  23558      0       3     932   \n",
            "..      ...   ...     ...    ...    ...     ...     ...   \n",
            "95        0    PA     501  23465      0       3     839   \n",
            "96        0     A     501  22626      0       3       0   \n",
            "97        0    FA     501  22628      0       3       0   \n",
            "98        0     A     509  22628      0       3       0   \n",
            "99        0    FA     501  22626      0       3       0   \n",
            "\n",
            "                                          payload_raw  \\\n",
            "0   b'\\x81~\\x03Q{\"header\": {\"msg_id\": \"d58f3b7d-f4...   \n",
            "1                                                 b''   \n",
            "2   b'\\x81~\\x03Q{\"header\": {\"msg_id\": \"d58f3b7d-f4...   \n",
            "3                                                 b''   \n",
            "4   b'HTTP/1.1 200 OK\\r\\nContent-Type: text/plain;...   \n",
            "..                                                ...   \n",
            "95  b'HTTP/1.1 200 OK\\r\\naccess-control-allow-orig...   \n",
            "96                                                b''   \n",
            "97                                                b''   \n",
            "98                                                b''   \n",
            "99                                                b''   \n",
            "\n",
            "                                          payload_hex  \n",
            "0   b'817e03517b22686561646572223a207b226d73675f69...  \n",
            "1                                                 b''  \n",
            "2   b'817e03517b22686561646572223a207b226d73675f69...  \n",
            "3                                                 b''  \n",
            "4   b'485454502f312e3120323030204f4b0d0a436f6e7465...  \n",
            "..                                                ...  \n",
            "95  b'485454502f312e3120323030204f4b0d0a6163636573...  \n",
            "96                                                b''  \n",
            "97                                                b''  \n",
            "98                                                b''  \n",
            "99                                                b''  \n",
            "\n",
            "[100 rows x 28 columns]\n"
          ]
        }
      ]
    },
    {
      "cell_type": "code",
      "source": [
        "from google.colab import files\n",
        "\n",
        "df.to_csv('our_packets.csv', encoding = 'utf-8-sig') \n",
        "files.download('our_packets.csv')"
      ],
      "metadata": {
        "colab": {
          "base_uri": "https://localhost:8080/",
          "height": 17
        },
        "id": "WqEwhuqJPQEP",
        "outputId": "e479a222-0256-4f32-ddf7-86febb60ced4"
      },
      "execution_count": 17,
      "outputs": [
        {
          "output_type": "display_data",
          "data": {
            "text/plain": [
              "<IPython.core.display.Javascript object>"
            ],
            "application/javascript": [
              "\n",
              "    async function download(id, filename, size) {\n",
              "      if (!google.colab.kernel.accessAllowed) {\n",
              "        return;\n",
              "      }\n",
              "      const div = document.createElement('div');\n",
              "      const label = document.createElement('label');\n",
              "      label.textContent = `Downloading \"${filename}\": `;\n",
              "      div.appendChild(label);\n",
              "      const progress = document.createElement('progress');\n",
              "      progress.max = size;\n",
              "      div.appendChild(progress);\n",
              "      document.body.appendChild(div);\n",
              "\n",
              "      const buffers = [];\n",
              "      let downloaded = 0;\n",
              "\n",
              "      const channel = await google.colab.kernel.comms.open(id);\n",
              "      // Send a message to notify the kernel that we're ready.\n",
              "      channel.send({})\n",
              "\n",
              "      for await (const message of channel.messages) {\n",
              "        // Send a message to notify the kernel that we're ready.\n",
              "        channel.send({})\n",
              "        if (message.buffers) {\n",
              "          for (const buffer of message.buffers) {\n",
              "            buffers.push(buffer);\n",
              "            downloaded += buffer.byteLength;\n",
              "            progress.value = downloaded;\n",
              "          }\n",
              "        }\n",
              "      }\n",
              "      const blob = new Blob(buffers, {type: 'application/binary'});\n",
              "      const a = document.createElement('a');\n",
              "      a.href = window.URL.createObjectURL(blob);\n",
              "      a.download = filename;\n",
              "      div.appendChild(a);\n",
              "      a.click();\n",
              "      div.remove();\n",
              "    }\n",
              "  "
            ]
          },
          "metadata": {}
        },
        {
          "output_type": "display_data",
          "data": {
            "text/plain": [
              "<IPython.core.display.Javascript object>"
            ],
            "application/javascript": [
              "download(\"download_49889bea-21e1-4838-8ea1-941244251e5b\", \"our_packets.csv\", 87569)"
            ]
          },
          "metadata": {}
        }
      ]
    }
  ]
}