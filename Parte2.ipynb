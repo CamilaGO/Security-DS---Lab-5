{
 "cells": [
  {
   "cell_type": "markdown",
   "id": "2bf49c37",
   "metadata": {},
   "source": [
    "# Parte 2\n"
   ]
  },
  {
   "cell_type": "markdown",
   "id": "1ee035f7",
   "metadata": {},
   "source": [
    "## Maria Jose Castro Lemus\n",
    "## Paula Camila Gonzalez Ortega\n"
   ]
  },
  {
   "cell_type": "code",
   "execution_count": 84,
   "id": "875c90cd",
   "metadata": {},
   "outputs": [],
   "source": [
    "#Importamos las librerias necesarias\n",
    "import pandas as pd\n",
    "import seaborn as sn\n",
    "import numpy as np\n",
    "import matplotlib.pyplot as plt\n",
    "#from quickda.explore_data import *\n",
    "from sklearn import metrics\n",
    "from sklearn.preprocessing import MinMaxScaler\n",
    "from sklearn.preprocessing import LabelEncoder\n",
    "from sklearn.model_selection import train_test_split\n",
    "from sklearn.neighbors import KNeighborsClassifier\n",
    "from sklearn.metrics import *\n",
    "from sklearn.decomposition import PCA"
   ]
  },
  {
   "cell_type": "code",
   "execution_count": 85,
   "id": "88dedf84",
   "metadata": {},
   "outputs": [
    {
     "data": {
      "text/html": [
       "<div>\n",
       "<style scoped>\n",
       "    .dataframe tbody tr th:only-of-type {\n",
       "        vertical-align: middle;\n",
       "    }\n",
       "\n",
       "    .dataframe tbody tr th {\n",
       "        vertical-align: top;\n",
       "    }\n",
       "\n",
       "    .dataframe thead th {\n",
       "        text-align: right;\n",
       "    }\n",
       "</style>\n",
       "<table border=\"1\" class=\"dataframe\">\n",
       "  <thead>\n",
       "    <tr style=\"text-align: right;\">\n",
       "      <th></th>\n",
       "      <th>duration</th>\n",
       "      <th>protocol_type</th>\n",
       "      <th>service</th>\n",
       "      <th>flag</th>\n",
       "      <th>src_bytes</th>\n",
       "      <th>dst_bytes</th>\n",
       "      <th>land</th>\n",
       "      <th>wrong_fragment</th>\n",
       "      <th>urgent</th>\n",
       "      <th>hot</th>\n",
       "      <th>...</th>\n",
       "      <th>dst_host_srv_count</th>\n",
       "      <th>dst_host_same_srv_rate</th>\n",
       "      <th>dst_host_diff_srv_rate</th>\n",
       "      <th>dst_host_same_src_port_rate</th>\n",
       "      <th>dst_host_srv_diff_host_rate</th>\n",
       "      <th>dst_host_serror_rate</th>\n",
       "      <th>dst_host_srv_serror_rate</th>\n",
       "      <th>dst_host_rerror_rate</th>\n",
       "      <th>dst_host_srv_rerror_rate</th>\n",
       "      <th>class</th>\n",
       "    </tr>\n",
       "  </thead>\n",
       "  <tbody>\n",
       "    <tr>\n",
       "      <th>0</th>\n",
       "      <td>0</td>\n",
       "      <td>tcp</td>\n",
       "      <td>ftp_data</td>\n",
       "      <td>SF</td>\n",
       "      <td>491</td>\n",
       "      <td>0</td>\n",
       "      <td>0</td>\n",
       "      <td>0</td>\n",
       "      <td>0</td>\n",
       "      <td>0</td>\n",
       "      <td>...</td>\n",
       "      <td>25</td>\n",
       "      <td>0.17</td>\n",
       "      <td>0.03</td>\n",
       "      <td>0.17</td>\n",
       "      <td>0.00</td>\n",
       "      <td>0.00</td>\n",
       "      <td>0.00</td>\n",
       "      <td>0.05</td>\n",
       "      <td>0.00</td>\n",
       "      <td>normal</td>\n",
       "    </tr>\n",
       "    <tr>\n",
       "      <th>1</th>\n",
       "      <td>0</td>\n",
       "      <td>udp</td>\n",
       "      <td>other</td>\n",
       "      <td>SF</td>\n",
       "      <td>146</td>\n",
       "      <td>0</td>\n",
       "      <td>0</td>\n",
       "      <td>0</td>\n",
       "      <td>0</td>\n",
       "      <td>0</td>\n",
       "      <td>...</td>\n",
       "      <td>1</td>\n",
       "      <td>0.00</td>\n",
       "      <td>0.60</td>\n",
       "      <td>0.88</td>\n",
       "      <td>0.00</td>\n",
       "      <td>0.00</td>\n",
       "      <td>0.00</td>\n",
       "      <td>0.00</td>\n",
       "      <td>0.00</td>\n",
       "      <td>normal</td>\n",
       "    </tr>\n",
       "    <tr>\n",
       "      <th>2</th>\n",
       "      <td>0</td>\n",
       "      <td>tcp</td>\n",
       "      <td>private</td>\n",
       "      <td>S0</td>\n",
       "      <td>0</td>\n",
       "      <td>0</td>\n",
       "      <td>0</td>\n",
       "      <td>0</td>\n",
       "      <td>0</td>\n",
       "      <td>0</td>\n",
       "      <td>...</td>\n",
       "      <td>26</td>\n",
       "      <td>0.10</td>\n",
       "      <td>0.05</td>\n",
       "      <td>0.00</td>\n",
       "      <td>0.00</td>\n",
       "      <td>1.00</td>\n",
       "      <td>1.00</td>\n",
       "      <td>0.00</td>\n",
       "      <td>0.00</td>\n",
       "      <td>anomaly</td>\n",
       "    </tr>\n",
       "    <tr>\n",
       "      <th>3</th>\n",
       "      <td>0</td>\n",
       "      <td>tcp</td>\n",
       "      <td>http</td>\n",
       "      <td>SF</td>\n",
       "      <td>232</td>\n",
       "      <td>8153</td>\n",
       "      <td>0</td>\n",
       "      <td>0</td>\n",
       "      <td>0</td>\n",
       "      <td>0</td>\n",
       "      <td>...</td>\n",
       "      <td>255</td>\n",
       "      <td>1.00</td>\n",
       "      <td>0.00</td>\n",
       "      <td>0.03</td>\n",
       "      <td>0.04</td>\n",
       "      <td>0.03</td>\n",
       "      <td>0.01</td>\n",
       "      <td>0.00</td>\n",
       "      <td>0.01</td>\n",
       "      <td>normal</td>\n",
       "    </tr>\n",
       "    <tr>\n",
       "      <th>4</th>\n",
       "      <td>0</td>\n",
       "      <td>tcp</td>\n",
       "      <td>http</td>\n",
       "      <td>SF</td>\n",
       "      <td>199</td>\n",
       "      <td>420</td>\n",
       "      <td>0</td>\n",
       "      <td>0</td>\n",
       "      <td>0</td>\n",
       "      <td>0</td>\n",
       "      <td>...</td>\n",
       "      <td>255</td>\n",
       "      <td>1.00</td>\n",
       "      <td>0.00</td>\n",
       "      <td>0.00</td>\n",
       "      <td>0.00</td>\n",
       "      <td>0.00</td>\n",
       "      <td>0.00</td>\n",
       "      <td>0.00</td>\n",
       "      <td>0.00</td>\n",
       "      <td>normal</td>\n",
       "    </tr>\n",
       "  </tbody>\n",
       "</table>\n",
       "<p>5 rows × 42 columns</p>\n",
       "</div>"
      ],
      "text/plain": [
       "   duration protocol_type   service flag  src_bytes  dst_bytes  land  \\\n",
       "0         0           tcp  ftp_data   SF        491          0     0   \n",
       "1         0           udp     other   SF        146          0     0   \n",
       "2         0           tcp   private   S0          0          0     0   \n",
       "3         0           tcp      http   SF        232       8153     0   \n",
       "4         0           tcp      http   SF        199        420     0   \n",
       "\n",
       "   wrong_fragment  urgent  hot  ...  dst_host_srv_count  \\\n",
       "0               0       0    0  ...                  25   \n",
       "1               0       0    0  ...                   1   \n",
       "2               0       0    0  ...                  26   \n",
       "3               0       0    0  ...                 255   \n",
       "4               0       0    0  ...                 255   \n",
       "\n",
       "   dst_host_same_srv_rate  dst_host_diff_srv_rate  \\\n",
       "0                    0.17                    0.03   \n",
       "1                    0.00                    0.60   \n",
       "2                    0.10                    0.05   \n",
       "3                    1.00                    0.00   \n",
       "4                    1.00                    0.00   \n",
       "\n",
       "   dst_host_same_src_port_rate  dst_host_srv_diff_host_rate  \\\n",
       "0                         0.17                         0.00   \n",
       "1                         0.88                         0.00   \n",
       "2                         0.00                         0.00   \n",
       "3                         0.03                         0.04   \n",
       "4                         0.00                         0.00   \n",
       "\n",
       "   dst_host_serror_rate  dst_host_srv_serror_rate  dst_host_rerror_rate  \\\n",
       "0                  0.00                      0.00                  0.05   \n",
       "1                  0.00                      0.00                  0.00   \n",
       "2                  1.00                      1.00                  0.00   \n",
       "3                  0.03                      0.01                  0.00   \n",
       "4                  0.00                      0.00                  0.00   \n",
       "\n",
       "   dst_host_srv_rerror_rate    class  \n",
       "0                      0.00   normal  \n",
       "1                      0.00   normal  \n",
       "2                      0.00  anomaly  \n",
       "3                      0.01   normal  \n",
       "4                      0.00   normal  \n",
       "\n",
       "[5 rows x 42 columns]"
      ]
     },
     "execution_count": 85,
     "metadata": {},
     "output_type": "execute_result"
    }
   ],
   "source": [
    "#Leemos el archivo\n",
    "df = pd.read_csv('Train_data.csv')\n",
    "df.head()"
   ]
  },
  {
   "cell_type": "code",
   "execution_count": 86,
   "id": "87dca763",
   "metadata": {},
   "outputs": [
    {
     "name": "stdout",
     "output_type": "stream",
     "text": [
      "<class 'pandas.core.frame.DataFrame'>\n",
      "RangeIndex: 25192 entries, 0 to 25191\n",
      "Data columns (total 42 columns):\n",
      " #   Column                       Non-Null Count  Dtype  \n",
      "---  ------                       --------------  -----  \n",
      " 0   duration                     25192 non-null  int64  \n",
      " 1   protocol_type                25192 non-null  object \n",
      " 2   service                      25192 non-null  object \n",
      " 3   flag                         25192 non-null  object \n",
      " 4   src_bytes                    25192 non-null  int64  \n",
      " 5   dst_bytes                    25192 non-null  int64  \n",
      " 6   land                         25192 non-null  int64  \n",
      " 7   wrong_fragment               25192 non-null  int64  \n",
      " 8   urgent                       25192 non-null  int64  \n",
      " 9   hot                          25192 non-null  int64  \n",
      " 10  num_failed_logins            25192 non-null  int64  \n",
      " 11  logged_in                    25192 non-null  int64  \n",
      " 12  num_compromised              25192 non-null  int64  \n",
      " 13  root_shell                   25192 non-null  int64  \n",
      " 14  su_attempted                 25192 non-null  int64  \n",
      " 15  num_root                     25192 non-null  int64  \n",
      " 16  num_file_creations           25192 non-null  int64  \n",
      " 17  num_shells                   25192 non-null  int64  \n",
      " 18  num_access_files             25192 non-null  int64  \n",
      " 19  num_outbound_cmds            25192 non-null  int64  \n",
      " 20  is_host_login                25192 non-null  int64  \n",
      " 21  is_guest_login               25192 non-null  int64  \n",
      " 22  count                        25192 non-null  int64  \n",
      " 23  srv_count                    25192 non-null  int64  \n",
      " 24  serror_rate                  25192 non-null  float64\n",
      " 25  srv_serror_rate              25192 non-null  float64\n",
      " 26  rerror_rate                  25192 non-null  float64\n",
      " 27  srv_rerror_rate              25192 non-null  float64\n",
      " 28  same_srv_rate                25192 non-null  float64\n",
      " 29  diff_srv_rate                25192 non-null  float64\n",
      " 30  srv_diff_host_rate           25192 non-null  float64\n",
      " 31  dst_host_count               25192 non-null  int64  \n",
      " 32  dst_host_srv_count           25192 non-null  int64  \n",
      " 33  dst_host_same_srv_rate       25192 non-null  float64\n",
      " 34  dst_host_diff_srv_rate       25192 non-null  float64\n",
      " 35  dst_host_same_src_port_rate  25192 non-null  float64\n",
      " 36  dst_host_srv_diff_host_rate  25192 non-null  float64\n",
      " 37  dst_host_serror_rate         25192 non-null  float64\n",
      " 38  dst_host_srv_serror_rate     25192 non-null  float64\n",
      " 39  dst_host_rerror_rate         25192 non-null  float64\n",
      " 40  dst_host_srv_rerror_rate     25192 non-null  float64\n",
      " 41  class                        25192 non-null  object \n",
      "dtypes: float64(15), int64(23), object(4)\n",
      "memory usage: 8.1+ MB\n"
     ]
    }
   ],
   "source": [
    "df.info()"
   ]
  },
  {
   "cell_type": "code",
   "execution_count": 87,
   "id": "16c692a8",
   "metadata": {},
   "outputs": [
    {
     "data": {
      "text/plain": [
       "normal     13449\n",
       "anomaly    11743\n",
       "Name: class, dtype: int64"
      ]
     },
     "execution_count": 87,
     "metadata": {},
     "output_type": "execute_result"
    }
   ],
   "source": [
    "df['class'].value_counts()"
   ]
  },
  {
   "cell_type": "code",
   "execution_count": 88,
   "id": "b271d6f4",
   "metadata": {},
   "outputs": [
    {
     "data": {
      "text/plain": [
       "{'whiskers': [<matplotlib.lines.Line2D at 0x154ba7c40>,\n",
       "  <matplotlib.lines.Line2D at 0x154ba7f10>],\n",
       " 'caps': [<matplotlib.lines.Line2D at 0x154bb4220>,\n",
       "  <matplotlib.lines.Line2D at 0x154bb44f0>],\n",
       " 'boxes': [<matplotlib.lines.Line2D at 0x154b99790>],\n",
       " 'medians': [<matplotlib.lines.Line2D at 0x154bb47c0>],\n",
       " 'fliers': [<matplotlib.lines.Line2D at 0x154bb4a90>],\n",
       " 'means': []}"
      ]
     },
     "execution_count": 88,
     "metadata": {},
     "output_type": "execute_result"
    },
    {
     "data": {
      "image/png": "[encoded data removed]",
      "text/plain": [
       "<Figure size 432x288 with 1 Axes>"
      ]
     },
     "metadata": {
      "needs_background": "light"
     },
     "output_type": "display_data"
    }
   ],
   "source": [
    "# Graficando\n",
    "plt.boxplot(df['src_bytes'])"
   ]
  },
  {
   "cell_type": "code",
   "execution_count": 89,
   "id": "da283b09",
   "metadata": {},
   "outputs": [
    {
     "data": {
      "text/plain": [
       "{'whiskers': [<matplotlib.lines.Line2D at 0x1475fa7f0>,\n",
       "  <matplotlib.lines.Line2D at 0x147f2b190>],\n",
       " 'caps': [<matplotlib.lines.Line2D at 0x147f58c70>,\n",
       "  <matplotlib.lines.Line2D at 0x147fb5c70>],\n",
       " 'boxes': [<matplotlib.lines.Line2D at 0x1475fa760>],\n",
       " 'medians': [<matplotlib.lines.Line2D at 0x147fb5a30>],\n",
       " 'fliers': [<matplotlib.lines.Line2D at 0x14795c1f0>],\n",
       " 'means': []}"
      ]
     },
     "execution_count": 89,
     "metadata": {},
     "output_type": "execute_result"
    },
    {
     "data": {
      "image/png": "[encoded data removed]",
      "text/plain": [
       "<Figure size 432x288 with 1 Axes>"
      ]
     },
     "metadata": {
      "needs_background": "light"
     },
     "output_type": "display_data"
    }
   ],
   "source": [
    "plt.boxplot(df[\"dst_bytes\"])"
   ]
  },
  {
   "cell_type": "code",
   "execution_count": 90,
   "id": "7a515ce2",
   "metadata": {},
   "outputs": [
    {
     "data": {
      "text/plain": [
       "25192"
      ]
     },
     "execution_count": 90,
     "metadata": {},
     "output_type": "execute_result"
    }
   ],
   "source": [
    "# El total de registros que tenemos\n",
    "len(df)"
   ]
  },
  {
   "cell_type": "code",
   "execution_count": 91,
   "id": "4ae148aa",
   "metadata": {},
   "outputs": [],
   "source": [
    "# Aqui vamos a empezar a quitar los outliners\n",
    "# Definimos la funcion\n",
    "def remove_outliners(df, feature):\n",
    "    Q1 = df[feature].quantile(0.0)\n",
    "    Q3 = df[feature].quantile(0.95)\n",
    "    IQR = Q3-Q1\n",
    "    upper_limit = Q3 + 1.5 * IQR\n",
    "    lower_limit = Q1 - 1.5 * IQR\n",
    "    return upper_limit, lower_limit"
   ]
  },
  {
   "cell_type": "code",
   "execution_count": 92,
   "id": "867b55ff",
   "metadata": {},
   "outputs": [],
   "source": [
    "# Removemos los outliners\n",
    "upper, lower = remove_outliners(df, \"src_bytes\")\n",
    "df = df[(df['src_bytes'] > lower) & (df['src_bytes'] < upper)]\n",
    "\n",
    "upper, lower = remove_outliners(df, \"dst_bytes\")\n",
    "df = df[(df['dst_bytes'] > lower) & (df['dst_bytes'] < upper)]"
   ]
  },
  {
   "cell_type": "code",
   "execution_count": 93,
   "id": "c965438a",
   "metadata": {},
   "outputs": [
    {
     "data": {
      "text/plain": [
       "24127"
      ]
     },
     "execution_count": 93,
     "metadata": {},
     "output_type": "execute_result"
    }
   ],
   "source": [
    "# El total de registros posterior a remover los atipicos\n",
    "len(df)"
   ]
  },
  {
   "cell_type": "code",
   "execution_count": 94,
   "id": "cc1a9123",
   "metadata": {},
   "outputs": [
    {
     "data": {
      "text/plain": [
       "{'whiskers': [<matplotlib.lines.Line2D at 0x154c2a1f0>,\n",
       "  <matplotlib.lines.Line2D at 0x154c2a4f0>],\n",
       " 'caps': [<matplotlib.lines.Line2D at 0x154c2a7c0>,\n",
       "  <matplotlib.lines.Line2D at 0x154c2aa90>],\n",
       " 'boxes': [<matplotlib.lines.Line2D at 0x154c2a070>],\n",
       " 'medians': [<matplotlib.lines.Line2D at 0x154c2ad60>],\n",
       " 'fliers': [<matplotlib.lines.Line2D at 0x154c38070>],\n",
       " 'means': []}"
      ]
     },
     "execution_count": 94,
     "metadata": {},
     "output_type": "execute_result"
    },
    {
     "data": {
      "image/png": "[encoded data removed]",
      "text/plain": [
       "<Figure size 432x288 with 1 Axes>"
      ]
     },
     "metadata": {
      "needs_background": "light"
     },
     "output_type": "display_data"
    }
   ],
   "source": [
    "plt.boxplot(df[\"src_bytes\"])"
   ]
  },
  {
   "cell_type": "code",
   "execution_count": 95,
   "id": "02267695",
   "metadata": {},
   "outputs": [
    {
     "data": {
      "text/plain": [
       "{'whiskers': [<matplotlib.lines.Line2D at 0x154c876d0>,\n",
       "  <matplotlib.lines.Line2D at 0x154c879a0>],\n",
       " 'caps': [<matplotlib.lines.Line2D at 0x154c87c70>,\n",
       "  <matplotlib.lines.Line2D at 0x154c87f40>],\n",
       " 'boxes': [<matplotlib.lines.Line2D at 0x154c87430>],\n",
       " 'medians': [<matplotlib.lines.Line2D at 0x154c97250>],\n",
       " 'fliers': [<matplotlib.lines.Line2D at 0x154c97520>],\n",
       " 'means': []}"
      ]
     },
     "execution_count": 95,
     "metadata": {},
     "output_type": "execute_result"
    },
    {
     "data": {
      "image/png": "[encoded data removed]",
      "text/plain": [
       "<Figure size 432x288 with 1 Axes>"
      ]
     },
     "metadata": {
      "needs_background": "light"
     },
     "output_type": "display_data"
    }
   ],
   "source": [
    "plt.boxplot(df[\"dst_bytes\"])"
   ]
  },
  {
   "cell_type": "code",
   "execution_count": 96,
   "id": "6cf465cc",
   "metadata": {},
   "outputs": [],
   "source": [
    "# Convertir los datos categoricos a cuantitativo\n",
    "le = LabelEncoder()\n",
    "df['service'] = le.fit_transform(df['service'])\n",
    "df['protocol_type'] = le.fit_transform(df['protocol_type'])\n",
    "df['flag'] = le.fit_transform(df['flag'])\n",
    "df['class'] = le.fit_transform(df['class'])"
   ]
  },
  {
   "cell_type": "code",
   "execution_count": 97,
   "id": "0296329e",
   "metadata": {},
   "outputs": [
    {
     "data": {
      "text/html": [
       "<div>\n",
       "<style scoped>\n",
       "    .dataframe tbody tr th:only-of-type {\n",
       "        vertical-align: middle;\n",
       "    }\n",
       "\n",
       "    .dataframe tbody tr th {\n",
       "        vertical-align: top;\n",
       "    }\n",
       "\n",
       "    .dataframe thead th {\n",
       "        text-align: right;\n",
       "    }\n",
       "</style>\n",
       "<table border=\"1\" class=\"dataframe\">\n",
       "  <thead>\n",
       "    <tr style=\"text-align: right;\">\n",
       "      <th></th>\n",
       "      <th>duration</th>\n",
       "      <th>protocol_type</th>\n",
       "      <th>service</th>\n",
       "      <th>flag</th>\n",
       "      <th>src_bytes</th>\n",
       "      <th>dst_bytes</th>\n",
       "      <th>land</th>\n",
       "      <th>wrong_fragment</th>\n",
       "      <th>urgent</th>\n",
       "      <th>hot</th>\n",
       "      <th>...</th>\n",
       "      <th>dst_host_srv_count</th>\n",
       "      <th>dst_host_same_srv_rate</th>\n",
       "      <th>dst_host_diff_srv_rate</th>\n",
       "      <th>dst_host_same_src_port_rate</th>\n",
       "      <th>dst_host_srv_diff_host_rate</th>\n",
       "      <th>dst_host_serror_rate</th>\n",
       "      <th>dst_host_srv_serror_rate</th>\n",
       "      <th>dst_host_rerror_rate</th>\n",
       "      <th>dst_host_srv_rerror_rate</th>\n",
       "      <th>class</th>\n",
       "    </tr>\n",
       "  </thead>\n",
       "  <tbody>\n",
       "    <tr>\n",
       "      <th>0</th>\n",
       "      <td>0</td>\n",
       "      <td>1</td>\n",
       "      <td>19</td>\n",
       "      <td>9</td>\n",
       "      <td>491</td>\n",
       "      <td>0</td>\n",
       "      <td>0</td>\n",
       "      <td>0</td>\n",
       "      <td>0</td>\n",
       "      <td>0</td>\n",
       "      <td>...</td>\n",
       "      <td>25</td>\n",
       "      <td>0.17</td>\n",
       "      <td>0.03</td>\n",
       "      <td>0.17</td>\n",
       "      <td>0.00</td>\n",
       "      <td>0.00</td>\n",
       "      <td>0.00</td>\n",
       "      <td>0.05</td>\n",
       "      <td>0.00</td>\n",
       "      <td>1</td>\n",
       "    </tr>\n",
       "    <tr>\n",
       "      <th>1</th>\n",
       "      <td>0</td>\n",
       "      <td>2</td>\n",
       "      <td>41</td>\n",
       "      <td>9</td>\n",
       "      <td>146</td>\n",
       "      <td>0</td>\n",
       "      <td>0</td>\n",
       "      <td>0</td>\n",
       "      <td>0</td>\n",
       "      <td>0</td>\n",
       "      <td>...</td>\n",
       "      <td>1</td>\n",
       "      <td>0.00</td>\n",
       "      <td>0.60</td>\n",
       "      <td>0.88</td>\n",
       "      <td>0.00</td>\n",
       "      <td>0.00</td>\n",
       "      <td>0.00</td>\n",
       "      <td>0.00</td>\n",
       "      <td>0.00</td>\n",
       "      <td>1</td>\n",
       "    </tr>\n",
       "    <tr>\n",
       "      <th>2</th>\n",
       "      <td>0</td>\n",
       "      <td>1</td>\n",
       "      <td>46</td>\n",
       "      <td>5</td>\n",
       "      <td>0</td>\n",
       "      <td>0</td>\n",
       "      <td>0</td>\n",
       "      <td>0</td>\n",
       "      <td>0</td>\n",
       "      <td>0</td>\n",
       "      <td>...</td>\n",
       "      <td>26</td>\n",
       "      <td>0.10</td>\n",
       "      <td>0.05</td>\n",
       "      <td>0.00</td>\n",
       "      <td>0.00</td>\n",
       "      <td>1.00</td>\n",
       "      <td>1.00</td>\n",
       "      <td>0.00</td>\n",
       "      <td>0.00</td>\n",
       "      <td>0</td>\n",
       "    </tr>\n",
       "    <tr>\n",
       "      <th>3</th>\n",
       "      <td>0</td>\n",
       "      <td>1</td>\n",
       "      <td>22</td>\n",
       "      <td>9</td>\n",
       "      <td>232</td>\n",
       "      <td>8153</td>\n",
       "      <td>0</td>\n",
       "      <td>0</td>\n",
       "      <td>0</td>\n",
       "      <td>0</td>\n",
       "      <td>...</td>\n",
       "      <td>255</td>\n",
       "      <td>1.00</td>\n",
       "      <td>0.00</td>\n",
       "      <td>0.03</td>\n",
       "      <td>0.04</td>\n",
       "      <td>0.03</td>\n",
       "      <td>0.01</td>\n",
       "      <td>0.00</td>\n",
       "      <td>0.01</td>\n",
       "      <td>1</td>\n",
       "    </tr>\n",
       "    <tr>\n",
       "      <th>4</th>\n",
       "      <td>0</td>\n",
       "      <td>1</td>\n",
       "      <td>22</td>\n",
       "      <td>9</td>\n",
       "      <td>199</td>\n",
       "      <td>420</td>\n",
       "      <td>0</td>\n",
       "      <td>0</td>\n",
       "      <td>0</td>\n",
       "      <td>0</td>\n",
       "      <td>...</td>\n",
       "      <td>255</td>\n",
       "      <td>1.00</td>\n",
       "      <td>0.00</td>\n",
       "      <td>0.00</td>\n",
       "      <td>0.00</td>\n",
       "      <td>0.00</td>\n",
       "      <td>0.00</td>\n",
       "      <td>0.00</td>\n",
       "      <td>0.00</td>\n",
       "      <td>1</td>\n",
       "    </tr>\n",
       "  </tbody>\n",
       "</table>\n",
       "<p>5 rows × 42 columns</p>\n",
       "</div>"
      ],
      "text/plain": [
       "   duration  protocol_type  service  flag  src_bytes  dst_bytes  land  \\\n",
       "0         0              1       19     9        491          0     0   \n",
       "1         0              2       41     9        146          0     0   \n",
       "2         0              1       46     5          0          0     0   \n",
       "3         0              1       22     9        232       8153     0   \n",
       "4         0              1       22     9        199        420     0   \n",
       "\n",
       "   wrong_fragment  urgent  hot  ...  dst_host_srv_count  \\\n",
       "0               0       0    0  ...                  25   \n",
       "1               0       0    0  ...                   1   \n",
       "2               0       0    0  ...                  26   \n",
       "3               0       0    0  ...                 255   \n",
       "4               0       0    0  ...                 255   \n",
       "\n",
       "   dst_host_same_srv_rate  dst_host_diff_srv_rate  \\\n",
       "0                    0.17                    0.03   \n",
       "1                    0.00                    0.60   \n",
       "2                    0.10                    0.05   \n",
       "3                    1.00                    0.00   \n",
       "4                    1.00                    0.00   \n",
       "\n",
       "   dst_host_same_src_port_rate  dst_host_srv_diff_host_rate  \\\n",
       "0                         0.17                         0.00   \n",
       "1                         0.88                         0.00   \n",
       "2                         0.00                         0.00   \n",
       "3                         0.03                         0.04   \n",
       "4                         0.00                         0.00   \n",
       "\n",
       "   dst_host_serror_rate  dst_host_srv_serror_rate  dst_host_rerror_rate  \\\n",
       "0                  0.00                      0.00                  0.05   \n",
       "1                  0.00                      0.00                  0.00   \n",
       "2                  1.00                      1.00                  0.00   \n",
       "3                  0.03                      0.01                  0.00   \n",
       "4                  0.00                      0.00                  0.00   \n",
       "\n",
       "   dst_host_srv_rerror_rate  class  \n",
       "0                      0.00      1  \n",
       "1                      0.00      1  \n",
       "2                      0.00      0  \n",
       "3                      0.01      1  \n",
       "4                      0.00      1  \n",
       "\n",
       "[5 rows x 42 columns]"
      ]
     },
     "execution_count": 97,
     "metadata": {},
     "output_type": "execute_result"
    }
   ],
   "source": [
    "#Vemos como quedo ahora nuestro dataset\n",
    "df.head()"
   ]
  },
  {
   "cell_type": "code",
   "execution_count": 98,
   "id": "0a1137bb",
   "metadata": {},
   "outputs": [
    {
     "data": {
      "text/html": [
       "<div>\n",
       "<style scoped>\n",
       "    .dataframe tbody tr th:only-of-type {\n",
       "        vertical-align: middle;\n",
       "    }\n",
       "\n",
       "    .dataframe tbody tr th {\n",
       "        vertical-align: top;\n",
       "    }\n",
       "\n",
       "    .dataframe thead th {\n",
       "        text-align: right;\n",
       "    }\n",
       "</style>\n",
       "<table border=\"1\" class=\"dataframe\">\n",
       "  <thead>\n",
       "    <tr style=\"text-align: right;\">\n",
       "      <th></th>\n",
       "      <th>0</th>\n",
       "      <th>1</th>\n",
       "      <th>2</th>\n",
       "      <th>3</th>\n",
       "      <th>4</th>\n",
       "      <th>5</th>\n",
       "      <th>6</th>\n",
       "      <th>7</th>\n",
       "      <th>8</th>\n",
       "      <th>9</th>\n",
       "      <th>...</th>\n",
       "      <th>31</th>\n",
       "      <th>32</th>\n",
       "      <th>33</th>\n",
       "      <th>34</th>\n",
       "      <th>35</th>\n",
       "      <th>36</th>\n",
       "      <th>37</th>\n",
       "      <th>38</th>\n",
       "      <th>39</th>\n",
       "      <th>40</th>\n",
       "    </tr>\n",
       "  </thead>\n",
       "  <tbody>\n",
       "    <tr>\n",
       "      <th>0</th>\n",
       "      <td>0.0</td>\n",
       "      <td>0.5</td>\n",
       "      <td>0.292308</td>\n",
       "      <td>0.9</td>\n",
       "      <td>0.133062</td>\n",
       "      <td>0.000000</td>\n",
       "      <td>0.0</td>\n",
       "      <td>0.0</td>\n",
       "      <td>0.0</td>\n",
       "      <td>0.0</td>\n",
       "      <td>...</td>\n",
       "      <td>0.588235</td>\n",
       "      <td>0.098039</td>\n",
       "      <td>0.17</td>\n",
       "      <td>0.03</td>\n",
       "      <td>0.17</td>\n",
       "      <td>0.00</td>\n",
       "      <td>0.00</td>\n",
       "      <td>0.00</td>\n",
       "      <td>0.05</td>\n",
       "      <td>0.00</td>\n",
       "    </tr>\n",
       "    <tr>\n",
       "      <th>1</th>\n",
       "      <td>0.0</td>\n",
       "      <td>1.0</td>\n",
       "      <td>0.630769</td>\n",
       "      <td>0.9</td>\n",
       "      <td>0.039566</td>\n",
       "      <td>0.000000</td>\n",
       "      <td>0.0</td>\n",
       "      <td>0.0</td>\n",
       "      <td>0.0</td>\n",
       "      <td>0.0</td>\n",
       "      <td>...</td>\n",
       "      <td>1.000000</td>\n",
       "      <td>0.003922</td>\n",
       "      <td>0.00</td>\n",
       "      <td>0.60</td>\n",
       "      <td>0.88</td>\n",
       "      <td>0.00</td>\n",
       "      <td>0.00</td>\n",
       "      <td>0.00</td>\n",
       "      <td>0.00</td>\n",
       "      <td>0.00</td>\n",
       "    </tr>\n",
       "    <tr>\n",
       "      <th>2</th>\n",
       "      <td>0.0</td>\n",
       "      <td>0.5</td>\n",
       "      <td>0.707692</td>\n",
       "      <td>0.5</td>\n",
       "      <td>0.000000</td>\n",
       "      <td>0.000000</td>\n",
       "      <td>0.0</td>\n",
       "      <td>0.0</td>\n",
       "      <td>0.0</td>\n",
       "      <td>0.0</td>\n",
       "      <td>...</td>\n",
       "      <td>1.000000</td>\n",
       "      <td>0.101961</td>\n",
       "      <td>0.10</td>\n",
       "      <td>0.05</td>\n",
       "      <td>0.00</td>\n",
       "      <td>0.00</td>\n",
       "      <td>1.00</td>\n",
       "      <td>1.00</td>\n",
       "      <td>0.00</td>\n",
       "      <td>0.00</td>\n",
       "    </tr>\n",
       "    <tr>\n",
       "      <th>3</th>\n",
       "      <td>0.0</td>\n",
       "      <td>0.5</td>\n",
       "      <td>0.338462</td>\n",
       "      <td>0.9</td>\n",
       "      <td>0.062873</td>\n",
       "      <td>0.409966</td>\n",
       "      <td>0.0</td>\n",
       "      <td>0.0</td>\n",
       "      <td>0.0</td>\n",
       "      <td>0.0</td>\n",
       "      <td>...</td>\n",
       "      <td>0.117647</td>\n",
       "      <td>1.000000</td>\n",
       "      <td>1.00</td>\n",
       "      <td>0.00</td>\n",
       "      <td>0.03</td>\n",
       "      <td>0.04</td>\n",
       "      <td>0.03</td>\n",
       "      <td>0.01</td>\n",
       "      <td>0.00</td>\n",
       "      <td>0.01</td>\n",
       "    </tr>\n",
       "    <tr>\n",
       "      <th>4</th>\n",
       "      <td>0.0</td>\n",
       "      <td>0.5</td>\n",
       "      <td>0.338462</td>\n",
       "      <td>0.9</td>\n",
       "      <td>0.053930</td>\n",
       "      <td>0.021119</td>\n",
       "      <td>0.0</td>\n",
       "      <td>0.0</td>\n",
       "      <td>0.0</td>\n",
       "      <td>0.0</td>\n",
       "      <td>...</td>\n",
       "      <td>1.000000</td>\n",
       "      <td>1.000000</td>\n",
       "      <td>1.00</td>\n",
       "      <td>0.00</td>\n",
       "      <td>0.00</td>\n",
       "      <td>0.00</td>\n",
       "      <td>0.00</td>\n",
       "      <td>0.00</td>\n",
       "      <td>0.00</td>\n",
       "      <td>0.00</td>\n",
       "    </tr>\n",
       "    <tr>\n",
       "      <th>...</th>\n",
       "      <td>...</td>\n",
       "      <td>...</td>\n",
       "      <td>...</td>\n",
       "      <td>...</td>\n",
       "      <td>...</td>\n",
       "      <td>...</td>\n",
       "      <td>...</td>\n",
       "      <td>...</td>\n",
       "      <td>...</td>\n",
       "      <td>...</td>\n",
       "      <td>...</td>\n",
       "      <td>...</td>\n",
       "      <td>...</td>\n",
       "      <td>...</td>\n",
       "      <td>...</td>\n",
       "      <td>...</td>\n",
       "      <td>...</td>\n",
       "      <td>...</td>\n",
       "      <td>...</td>\n",
       "      <td>...</td>\n",
       "      <td>...</td>\n",
       "    </tr>\n",
       "    <tr>\n",
       "      <th>24122</th>\n",
       "      <td>0.0</td>\n",
       "      <td>0.5</td>\n",
       "      <td>0.246154</td>\n",
       "      <td>0.2</td>\n",
       "      <td>0.000000</td>\n",
       "      <td>0.000000</td>\n",
       "      <td>0.0</td>\n",
       "      <td>0.0</td>\n",
       "      <td>0.0</td>\n",
       "      <td>0.0</td>\n",
       "      <td>...</td>\n",
       "      <td>1.000000</td>\n",
       "      <td>0.027451</td>\n",
       "      <td>0.03</td>\n",
       "      <td>0.06</td>\n",
       "      <td>0.00</td>\n",
       "      <td>0.00</td>\n",
       "      <td>0.00</td>\n",
       "      <td>0.00</td>\n",
       "      <td>1.00</td>\n",
       "      <td>1.00</td>\n",
       "    </tr>\n",
       "    <tr>\n",
       "      <th>24123</th>\n",
       "      <td>0.0</td>\n",
       "      <td>0.5</td>\n",
       "      <td>0.292308</td>\n",
       "      <td>0.9</td>\n",
       "      <td>0.090515</td>\n",
       "      <td>0.000000</td>\n",
       "      <td>0.0</td>\n",
       "      <td>0.0</td>\n",
       "      <td>0.0</td>\n",
       "      <td>0.0</td>\n",
       "      <td>...</td>\n",
       "      <td>0.003922</td>\n",
       "      <td>0.152941</td>\n",
       "      <td>1.00</td>\n",
       "      <td>0.00</td>\n",
       "      <td>1.00</td>\n",
       "      <td>0.18</td>\n",
       "      <td>0.00</td>\n",
       "      <td>0.00</td>\n",
       "      <td>0.00</td>\n",
       "      <td>0.00</td>\n",
       "    </tr>\n",
       "    <tr>\n",
       "      <th>24124</th>\n",
       "      <td>0.0</td>\n",
       "      <td>0.5</td>\n",
       "      <td>0.707692</td>\n",
       "      <td>0.1</td>\n",
       "      <td>0.000000</td>\n",
       "      <td>0.000000</td>\n",
       "      <td>0.0</td>\n",
       "      <td>0.0</td>\n",
       "      <td>0.0</td>\n",
       "      <td>0.0</td>\n",
       "      <td>...</td>\n",
       "      <td>1.000000</td>\n",
       "      <td>0.050980</td>\n",
       "      <td>0.05</td>\n",
       "      <td>0.07</td>\n",
       "      <td>0.00</td>\n",
       "      <td>0.00</td>\n",
       "      <td>0.00</td>\n",
       "      <td>0.00</td>\n",
       "      <td>1.00</td>\n",
       "      <td>1.00</td>\n",
       "    </tr>\n",
       "    <tr>\n",
       "      <th>24125</th>\n",
       "      <td>0.0</td>\n",
       "      <td>0.5</td>\n",
       "      <td>0.584615</td>\n",
       "      <td>0.5</td>\n",
       "      <td>0.000000</td>\n",
       "      <td>0.000000</td>\n",
       "      <td>0.0</td>\n",
       "      <td>0.0</td>\n",
       "      <td>0.0</td>\n",
       "      <td>0.0</td>\n",
       "      <td>...</td>\n",
       "      <td>1.000000</td>\n",
       "      <td>0.078431</td>\n",
       "      <td>0.08</td>\n",
       "      <td>0.06</td>\n",
       "      <td>0.00</td>\n",
       "      <td>0.00</td>\n",
       "      <td>1.00</td>\n",
       "      <td>1.00</td>\n",
       "      <td>0.00</td>\n",
       "      <td>0.00</td>\n",
       "    </tr>\n",
       "    <tr>\n",
       "      <th>24126</th>\n",
       "      <td>0.0</td>\n",
       "      <td>0.5</td>\n",
       "      <td>0.261538</td>\n",
       "      <td>0.5</td>\n",
       "      <td>0.000000</td>\n",
       "      <td>0.000000</td>\n",
       "      <td>0.0</td>\n",
       "      <td>0.0</td>\n",
       "      <td>0.0</td>\n",
       "      <td>0.0</td>\n",
       "      <td>...</td>\n",
       "      <td>1.000000</td>\n",
       "      <td>0.192157</td>\n",
       "      <td>0.19</td>\n",
       "      <td>0.03</td>\n",
       "      <td>0.01</td>\n",
       "      <td>0.00</td>\n",
       "      <td>1.00</td>\n",
       "      <td>1.00</td>\n",
       "      <td>0.00</td>\n",
       "      <td>0.00</td>\n",
       "    </tr>\n",
       "  </tbody>\n",
       "</table>\n",
       "<p>24127 rows × 41 columns</p>\n",
       "</div>"
      ],
      "text/plain": [
       "        0    1         2    3         4         5    6    7    8    9   ...  \\\n",
       "0      0.0  0.5  0.292308  0.9  0.133062  0.000000  0.0  0.0  0.0  0.0  ...   \n",
       "1      0.0  1.0  0.630769  0.9  0.039566  0.000000  0.0  0.0  0.0  0.0  ...   \n",
       "2      0.0  0.5  0.707692  0.5  0.000000  0.000000  0.0  0.0  0.0  0.0  ...   \n",
       "3      0.0  0.5  0.338462  0.9  0.062873  0.409966  0.0  0.0  0.0  0.0  ...   \n",
       "4      0.0  0.5  0.338462  0.9  0.053930  0.021119  0.0  0.0  0.0  0.0  ...   \n",
       "...    ...  ...       ...  ...       ...       ...  ...  ...  ...  ...  ...   \n",
       "24122  0.0  0.5  0.246154  0.2  0.000000  0.000000  0.0  0.0  0.0  0.0  ...   \n",
       "24123  0.0  0.5  0.292308  0.9  0.090515  0.000000  0.0  0.0  0.0  0.0  ...   \n",
       "24124  0.0  0.5  0.707692  0.1  0.000000  0.000000  0.0  0.0  0.0  0.0  ...   \n",
       "24125  0.0  0.5  0.584615  0.5  0.000000  0.000000  0.0  0.0  0.0  0.0  ...   \n",
       "24126  0.0  0.5  0.261538  0.5  0.000000  0.000000  0.0  0.0  0.0  0.0  ...   \n",
       "\n",
       "             31        32    33    34    35    36    37    38    39    40  \n",
       "0      0.588235  0.098039  0.17  0.03  0.17  0.00  0.00  0.00  0.05  0.00  \n",
       "1      1.000000  0.003922  0.00  0.60  0.88  0.00  0.00  0.00  0.00  0.00  \n",
       "2      1.000000  0.101961  0.10  0.05  0.00  0.00  1.00  1.00  0.00  0.00  \n",
       "3      0.117647  1.000000  1.00  0.00  0.03  0.04  0.03  0.01  0.00  0.01  \n",
       "4      1.000000  1.000000  1.00  0.00  0.00  0.00  0.00  0.00  0.00  0.00  \n",
       "...         ...       ...   ...   ...   ...   ...   ...   ...   ...   ...  \n",
       "24122  1.000000  0.027451  0.03  0.06  0.00  0.00  0.00  0.00  1.00  1.00  \n",
       "24123  0.003922  0.152941  1.00  0.00  1.00  0.18  0.00  0.00  0.00  0.00  \n",
       "24124  1.000000  0.050980  0.05  0.07  0.00  0.00  0.00  0.00  1.00  1.00  \n",
       "24125  1.000000  0.078431  0.08  0.06  0.00  0.00  1.00  1.00  0.00  0.00  \n",
       "24126  1.000000  0.192157  0.19  0.03  0.01  0.00  1.00  1.00  0.00  0.00  \n",
       "\n",
       "[24127 rows x 41 columns]"
      ]
     },
     "execution_count": 98,
     "metadata": {},
     "output_type": "execute_result"
    }
   ],
   "source": [
    "features = df.loc[:, df.columns != 'class']\n",
    "target = df[\"class\"]\n",
    "scaler = MinMaxScaler()\n",
    "scaler.fit(features)\n",
    "features = pd.DataFrame(scaler.transform(features))\n",
    "features"
   ]
  },
  {
   "cell_type": "code",
   "execution_count": 99,
   "id": "9e161ba3",
   "metadata": {},
   "outputs": [],
   "source": [
    "# Dividimos el dataset en train y test\n",
    "features_train, features_test, target_train, target_test = train_test_split(features, target, test_size=0.3, random_state=1234)"
   ]
  },
  {
   "cell_type": "code",
   "execution_count": 100,
   "id": "ba4034e2",
   "metadata": {},
   "outputs": [
    {
     "data": {
      "text/plain": [
       "KNeighborsClassifier()"
      ]
     },
     "execution_count": 100,
     "metadata": {},
     "output_type": "execute_result"
    }
   ],
   "source": [
    "knn = KNeighborsClassifier()\n",
    "knn.fit(features_train, target_train)"
   ]
  },
  {
   "cell_type": "code",
   "execution_count": 101,
   "id": "5210fbe0",
   "metadata": {},
   "outputs": [
    {
     "name": "stdout",
     "output_type": "stream",
     "text": [
      "0.9952629085741355\n"
     ]
    }
   ],
   "source": [
    "# Con esto luego vamos a testear overfit.\n",
    "predict_train = knn.predict(features_train)\n",
    "# Este es la accuracy del training\n",
    "print(metrics.accuracy_score(predict_train, target_train))"
   ]
  },
  {
   "cell_type": "code",
   "execution_count": 102,
   "id": "864a26fb",
   "metadata": {},
   "outputs": [
    {
     "name": "stdout",
     "output_type": "stream",
     "text": [
      "0.9944743749136621\n"
     ]
    }
   ],
   "source": [
    "predict_test = knn.predict(features_test)\n",
    "# Accuracy de test\n",
    "print(metrics.accuracy_score(predict_test, target_test))"
   ]
  },
  {
   "cell_type": "code",
   "execution_count": 103,
   "id": "07df8105",
   "metadata": {},
   "outputs": [],
   "source": [
    "# Ahora vamos a crear una matriz de confusion para ver tipos de errores\n",
    "confusion_m = confusion_matrix(predict_test, target_test)"
   ]
  },
  {
   "cell_type": "code",
   "execution_count": 104,
   "id": "f1da9e5b",
   "metadata": {},
   "outputs": [
    {
     "name": "stdout",
     "output_type": "stream",
     "text": [
      "              precision    recall  f1-score   support\n",
      "\n",
      "           0       0.99      0.99      0.99      3466\n",
      "           1       0.99      0.99      0.99      3773\n",
      "\n",
      "    accuracy                           0.99      7239\n",
      "   macro avg       0.99      0.99      0.99      7239\n",
      "weighted avg       0.99      0.99      0.99      7239\n",
      "\n"
     ]
    }
   ],
   "source": [
    "print(classification_report(predict_test, target_test))"
   ]
  },
  {
   "cell_type": "code",
   "execution_count": null,
   "id": "7c4f3592",
   "metadata": {},
   "outputs": [],
   "source": []
  },
  {
   "cell_type": "code",
   "execution_count": 107,
   "id": "ef9ae83d",
   "metadata": {},
   "outputs": [
    {
     "data": {
      "text/plain": [
       "2"
      ]
     },
     "execution_count": 107,
     "metadata": {},
     "output_type": "execute_result"
    }
   ],
   "source": [
    "#Ahora utilizaremos PCA\n",
    "pca = PCA(n_components=0.65, random_state=1234)\n",
    "pca.fit(features_train)\n",
    "pca.fit(features_test)\n",
    "pca.n_components_"
   ]
  },
  {
   "cell_type": "code",
   "execution_count": 108,
   "id": "9a4ebae8",
   "metadata": {},
   "outputs": [
    {
     "data": {
      "text/plain": [
       "KNeighborsClassifier()"
      ]
     },
     "execution_count": 108,
     "metadata": {},
     "output_type": "execute_result"
    }
   ],
   "source": [
    "# Hacemos el transform utilizando train y test\n",
    "features_trainPCA = pca.transform(features_train)\n",
    "features_testPCA = pca.transform(features_test)\n",
    "\n",
    "knn_PCA = KNeighborsClassifier()\n",
    "knn_PCA.fit(features_trainPCA, target_train)"
   ]
  },
  {
   "cell_type": "code",
   "execution_count": 109,
   "id": "4dbc7de7",
   "metadata": {},
   "outputs": [
    {
     "name": "stdout",
     "output_type": "stream",
     "text": [
      "0.9777356702984368\n",
      "0.9669843901091311\n"
     ]
    }
   ],
   "source": [
    "predict_train = knn_PCA.predict(features_trainPCA)\n",
    "#accuracy train\n",
    "print(metrics.accuracy_score(predict_train, target_train))\n",
    "\n",
    "#accuracy test\n",
    "predict_test = knn_PCA.predict(features_testPCA)\n",
    "print(metrics.accuracy_score(predict_test, target_test))"
   ]
  },
  {
   "cell_type": "code",
   "execution_count": 110,
   "id": "f3baf005",
   "metadata": {},
   "outputs": [
    {
     "name": "stdout",
     "output_type": "stream",
     "text": [
      "              precision    recall  f1-score   support\n",
      "\n",
      "           0       0.97      0.96      0.97      3473\n",
      "           1       0.97      0.97      0.97      3766\n",
      "\n",
      "    accuracy                           0.97      7239\n",
      "   macro avg       0.97      0.97      0.97      7239\n",
      "weighted avg       0.97      0.97      0.97      7239\n",
      "\n"
     ]
    }
   ],
   "source": [
    "#Creamos la matriz de confusion\n",
    "confusion_m = confusion_matrix(predict_test, target_test)\n",
    "print(classification_report(predict_test, target_test))"
   ]
  },
  {
   "cell_type": "code",
   "execution_count": 111,
   "id": "0182f3e9",
   "metadata": {},
   "outputs": [
    {
     "data": {
      "text/plain": [
       "Text(0.5, 1.1, 'Confusion matrix')"
      ]
     },
     "execution_count": 111,
     "metadata": {},
     "output_type": "execute_result"
    },
    {
     "data": {
      "image/png": "[encoded data removed]",
      "text/plain": [
       "<Figure size 432x288 with 2 Axes>"
      ]
     },
     "metadata": {
      "needs_background": "light"
     },
     "output_type": "display_data"
    }
   ],
   "source": [
    "# Generar matriz de confusion\n",
    "class_names=[0,1]\n",
    "fig, ax = plt.subplots()\n",
    "tick_marks = np.arange(len(class_names))\n",
    "plt.xticks(tick_marks, class_names)\n",
    "plt.yticks(tick_marks, class_names)\n",
    "    \n",
    "# create mapa de calor al lado\n",
    "sn.heatmap(pd.DataFrame(confusion_m), annot=True, cmap=\"BuPu\" ,fmt='g')\n",
    "ax.xaxis.set_label_position(\"top\")\n",
    "plt.tight_layout()\n",
    "plt.title('Confusion matrix', y=1.1)"
   ]
  },
  {
   "cell_type": "markdown",
   "id": "2648cd25",
   "metadata": {},
   "source": [
    "# Resultados\n",
    "\n",
    "El modelo PCA presento una mayor velocidad en cuando a calcular la prediccion, pero no tuvo la misma efectividad que el modelo Naive Byes. Dentro de la matriz de confusion que la diferencia entr los erroes de tipo 1 y 2 son unicamente 7 predicciones. Podemos ver que en recall y presion son de 0.97.\n",
    "\n",
    "\n",
    "# Conclusiones\n",
    "\n",
    "El modelo de PCA es mas eficiente en cuestion de el tiempo que le tomo el poder realizar la prediccion, en compraracion con el anterior. Sin embargo la eficiencia se sacrifico con cierto porcentaje de accuray, puesto que en este caso se redujo.\n",
    "\n",
    "Podemos decir que es una herramienta que facilita mucho el procesamiento pero tiene su contra, que es la reduccion de la efectividad, pero dependiento de la cantidad de datos que se esta manejando puede que esto represente una ventaja sobre la accuracy. \n"
   ]
  },
  {
   "cell_type": "code",
   "execution_count": null,
   "id": "8248d7d6",
   "metadata": {},
   "outputs": [],
   "source": []
  }
 ],
 "metadata": {
  "kernelspec": {
   "display_name": "Python 3 (ipykernel)",
   "language": "python",
   "name": "python3"
  },
  "language_info": {
   "codemirror_mode": {
    "name": "ipython",
    "version": 3
   },
   "file_extension": ".py",
   "mimetype": "text/x-python",
   "name": "python",
   "nbconvert_exporter": "python",
   "pygments_lexer": "ipython3",
   "version": "3.8.9"
  }
 },
 "nbformat": 4,
 "nbformat_minor": 5
}
