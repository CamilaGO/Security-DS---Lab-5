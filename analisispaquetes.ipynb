{
  "nbformat": 4,
  "nbformat_minor": 0,
  "metadata": {
    "colab": {
      "name": "analisispaquetes.ipynb",
      "provenance": []
    },
    "kernelspec": {
      "name": "python3",
      "display_name": "Python 3"
    },
    "language_info": {
      "name": "python"
    }
  },
  "cells": [
    {
      "cell_type": "code",
      "execution_count": 3,
      "metadata": {
        "colab": {
          "base_uri": "https://localhost:8080/"
        },
        "id": "RKV3_GmoKdQj",
        "outputId": "5b29e554-c242-49c9-9ce4-24022cf777ba"
      },
      "outputs": [
        {
          "output_type": "stream",
          "name": "stdout",
          "text": [
            "Requirement already satisfied: scapy in /usr/local/lib/python3.7/dist-packages (2.4.5)\n"
          ]
        }
      ],
      "source": [
        "pip install scapy"
      ]
    },
    {
      "cell_type": "code",
      "source": [
        "from scapy.all import * # Packet manipulation\n",
        "import pandas as pd # Pandas - Create and Manipulate DataFrames\n",
        "import numpy as np # Math Stuff (don't worry only used for one line :] )\n",
        "import binascii # Binary to Ascii \n",
        "import seaborn as sns\n",
        "sns.set(color_codes=True)\n",
        "%matplotlib inline"
      ],
      "metadata": {
        "id": "ABLRbWDZKjqH"
      },
      "execution_count": 2,
      "outputs": []
    },
    {
      "cell_type": "markdown",
      "source": [
        "### Se leen los paquetes analizados por el catedratico"
      ],
      "metadata": {
        "id": "sQ5Um7H1Mfqs"
      }
    },
    {
      "cell_type": "code",
      "source": [
        "#num_of_packets_to_sniff = 100\n",
        "#pcap = sniff(count=num_of_packets_to_sniff)\n",
        "pcap = rdpcap('analisis_paquetes.pcap')\n",
        "\n",
        "# rdpcap returns packet list\n",
        "## packetlist object can be enumerated \n",
        "print(type(pcap))\n",
        "print(len(pcap))\n",
        "print(pcap)\n",
        "pcap[0]"
      ],
      "metadata": {
        "colab": {
          "base_uri": "https://localhost:8080/"
        },
        "id": "E5Skjv-sKmFy",
        "outputId": "ff442e76-8ade-45c2-c20b-ae3d25b5c8dd"
      },
      "execution_count": 18,
      "outputs": [
        {
          "output_type": "stream",
          "name": "stdout",
          "text": [
            "<class 'scapy.plist.PacketList'>\n",
            "62\n",
            "<analisis_paquetes.pcap: TCP:0 UDP:62 ICMP:0 Other:0>\n"
          ]
        },
        {
          "output_type": "execute_result",
          "data": {
            "text/plain": [
              "<Ether  dst=80:37:73:96:9b:db src=88:e9:fe:6a:92:52 type=IPv4 |<IP  version=4 ihl=5 tos=0x0 len=961 id=1 flags= frag=0 ttl=64 proto=17 chksum=0x52e6 src=10.1.10.53 dst=84.54.22.33 |<UDP  sport=53 dport=53 len=941 chksum=0xf60e |<DNS  id=12 qr=0 opcode=QUERY aa=0 tc=0 rd=1 ra=0 z=0 ad=0 cd=0 rcode=ok qdcount=1 ancount=0 nscount=0 arcount=0 qd=<DNSQR  qname='google.com.' qtype=AAAA qclass=IN |> an=None ns=None ar=None |<Raw  load='�PNG\\r\\n\\x1a\\n\\x00\\x00\\x00\\rIHDR\\x00\\x00\\x01b\\x00\\x00\\x00�\\x08\\x06\\x00\\x00\\x00(�TR\\x00\\x00:�IDATx��\\t|T�����;K\\x12\\x08;\\x08�\\nE��$\\x19��Ziߪ-�;N2��V�V�a�Z\\x11!��\\x01ܻik[�.ok�e�\\x01\\\\��]�-���d�\\x08�\\x08��g���<��L\\x12�$3wf��\\x02<_\\r�Y�r��y���\\x1c\\r\\x18�8c�ew\\r\\x1e����\\x13�iaK����u}Ųw�d��\\x15�\"`\\x06:\\x13�\\x0b�\\x0c\\x16�\\x12�&�9Ɛ�\\x00���\\x08\\x111ҌQHP*�@\\x04O4���7<y�\\x0e.9���a2@a��&\"�\\x13\\x11�c�kO�s@�9�i�4X�x�K�a!f��0w��3dx\\x1d\"���C(�}�0|q�*��\\x0b�a!f�4��.�sKg\\x10\\x11]=9NԂ\\x06��u���K_�e\\x06*���\\x19Px��%��\\x03�3��\\x1e\"E?\\x0f���+H�]Q�k����8�\"�\\x1d\\x114v�2\\x10���咯̸|�x.\\\\�-b�I�B���@�L��CJ]XWQ����uQ�kQ\\x13\\x7f�N�1\\x00���2\\x17�03\\x10�\\\\\\x04�@!�H�BJqG\\'+�R�U\\\\[����GXC;��Ԏ�q�!\\x04�r�s=�\\x02rԴ\\x0b���_S�%�ph�a\\x12Y\\x05\\x02����c���P�9�' |>>>>>"
            ]
          },
          "metadata": {},
          "execution_count": 18
        }
      ]
    },
    {
      "cell_type": "markdown",
      "source": [
        "### Exploración de paquetes capturados"
      ],
      "metadata": {
        "id": "RT-x4TyOLFFJ"
      }
    },
    {
      "cell_type": "code",
      "source": [
        "#Recordemos que en los modelos de red, las capas inferiores encapsulan la información de las capas superiores\n",
        "#Frames en paquetes, paquetes en segmentos (Ethernet, IP), modelo TCP/IP\n",
        "\n",
        "ethernet_frame = pcap[0]\n",
        "ip_packet = ethernet_frame.payload\n",
        "segment = ip_packet.payload\n",
        "data = segment.payload #recupera la informacion de la capa 4\n",
        "\n",
        "print(\"Informacion del frame:\")\n",
        "print(ethernet_frame.summary())\n",
        "\n",
        "print(\"Informacion del paquete:\")\n",
        "print(ip_packet.summary())\n",
        "\n",
        "print(\"Informacion del segmento:\")\n",
        "print(segment.summary())\n",
        "\n",
        "print(\"Data:\")\n",
        "print(data.summary())\n",
        "\n",
        "ethernet_frame.show()\n",
        "data.show()"
      ],
      "metadata": {
        "colab": {
          "base_uri": "https://localhost:8080/"
        },
        "id": "Qf-pfMJUK-XT",
        "outputId": "5e9e5abb-c797-480a-9ac4-690827554742"
      },
      "execution_count": 22,
      "outputs": [
        {
          "output_type": "stream",
          "name": "stdout",
          "text": [
            "Informacion del frame:\n",
            "Ether / IP / UDP / DNS Qry \"b'google.com.'\"  / Raw\n",
            "Informacion del paquete:\n",
            "IP / UDP / DNS Qry \"b'google.com.'\"  / Raw\n",
            "Informacion del segmento:\n",
            "UDP / DNS Qry \"b'google.com.'\"  / Raw\n",
            "Data:\n",
            "DNS Qry \"b'google.com.'\"  / Raw\n",
            "###[ Ethernet ]### \n",
            "  dst       = 80:37:73:96:9b:db\n",
            "  src       = 88:e9:fe:6a:92:52\n",
            "  type      = IPv4\n",
            "###[ IP ]### \n",
            "     version   = 4\n",
            "     ihl       = 5\n",
            "     tos       = 0x0\n",
            "     len       = 961\n",
            "     id        = 1\n",
            "     flags     = \n",
            "     frag      = 0\n",
            "     ttl       = 64\n",
            "     proto     = 17\n",
            "     chksum    = 0x52e6\n",
            "     src       = 10.1.10.53\n",
            "     dst       = 84.54.22.33\n",
            "     \\options   \\\n",
            "###[ UDP ]### \n",
            "        sport     = 53\n",
            "        dport     = 53\n",
            "        len       = 941\n",
            "        chksum    = 0xf60e\n",
            "###[ DNS ]### \n",
            "           id        = 12\n",
            "           qr        = 0\n",
            "           opcode    = QUERY\n",
            "           aa        = 0\n",
            "           tc        = 0\n",
            "           rd        = 1\n",
            "           ra        = 0\n",
            "           z         = 0\n",
            "           ad        = 0\n",
            "           cd        = 0\n",
            "           rcode     = ok\n",
            "           qdcount   = 1\n",
            "           ancount   = 0\n",
            "           nscount   = 0\n",
            "           arcount   = 0\n",
            "           \\qd        \\\n",
            "            |###[ DNS Question Record ]### \n",
            "            |  qname     = 'google.com.'\n",
            "            |  qtype     = AAAA\n",
            "            |  qclass    = IN\n",
            "           an        = None\n",
            "           ns        = None\n",
            "           ar        = None\n",
            "###[ Raw ]### \n",
            "              load      = '�PNG\\r\\n\\x1a\\n\\x00\\x00\\x00\\rIHDR\\x00\\x00\\x01b\\x00\\x00\\x00�\\x08\\x06\\x00\\x00\\x00(�TR\\x00\\x00:�IDATx��\\t|T�����;K\\x12\\x08;\\x08�\\nE��$\\x19��Ziߪ-�;N2��V�V�a�Z\\x11!��\\x01ܻik[�.ok�e�\\x01\\\\��]�-���d�\\x08�\\x08��g���<��L\\x12�$3wf��\\x02<_\\r�Y�r��y���\\x1c\\r\\x18�8c�ew\\r\\x1e����\\x13�iaK����u}Ųw�d��\\x15�\"`\\x06:\\x13�\\x0b�\\x0c\\x16�\\x12�&�9Ɛ�\\x00���\\x08\\x111ҌQHP*�@\\x04O4���7<y�\\x0e.9���a2@a��&\"�\\x13\\x11�c�kO�s@�9�i�4X�x�K�a!f��0w��3dx\\x1d\"���C(�}�0|q�*��\\x0b�a!f�4��.�sKg\\x10\\x11]=9NԂ\\x06��u���K_�e\\x06*���\\x19Px��%��\\x03�3��\\x1e\"E?\\x0f���+H�]Q�k����8�\"�\\x1d\\x114v�2\\x10���咯̸|�x.\\\\�-b�I�B���@�L��CJ]XWQ����uQ�kQ\\x13\\x7f�N�1\\x00���2\\x17�03\\x10�\\\\\\x04�@!�H�BJqG\\'+�R�U\\\\[����GXC;��Ԏ�q�!\\x04�r�s=�\\x02rԴ\\x0b���_S�%�ph�a\\x12Y\\x05\\x02����c���P�9�'\n",
            "\n",
            "###[ DNS ]### \n",
            "  id        = 12\n",
            "  qr        = 0\n",
            "  opcode    = QUERY\n",
            "  aa        = 0\n",
            "  tc        = 0\n",
            "  rd        = 1\n",
            "  ra        = 0\n",
            "  z         = 0\n",
            "  ad        = 0\n",
            "  cd        = 0\n",
            "  rcode     = ok\n",
            "  qdcount   = 1\n",
            "  ancount   = 0\n",
            "  nscount   = 0\n",
            "  arcount   = 0\n",
            "  \\qd        \\\n",
            "   |###[ DNS Question Record ]### \n",
            "   |  qname     = 'google.com.'\n",
            "   |  qtype     = AAAA\n",
            "   |  qclass    = IN\n",
            "  an        = None\n",
            "  ns        = None\n",
            "  ar        = None\n",
            "###[ Raw ]### \n",
            "     load      = '�PNG\\r\\n\\x1a\\n\\x00\\x00\\x00\\rIHDR\\x00\\x00\\x01b\\x00\\x00\\x00�\\x08\\x06\\x00\\x00\\x00(�TR\\x00\\x00:�IDATx��\\t|T�����;K\\x12\\x08;\\x08�\\nE��$\\x19��Ziߪ-�;N2��V�V�a�Z\\x11!��\\x01ܻik[�.ok�e�\\x01\\\\��]�-���d�\\x08�\\x08��g���<��L\\x12�$3wf��\\x02<_\\r�Y�r��y���\\x1c\\r\\x18�8c�ew\\r\\x1e����\\x13�iaK����u}Ųw�d��\\x15�\"`\\x06:\\x13�\\x0b�\\x0c\\x16�\\x12�&�9Ɛ�\\x00���\\x08\\x111ҌQHP*�@\\x04O4���7<y�\\x0e.9���a2@a��&\"�\\x13\\x11�c�kO�s@�9�i�4X�x�K�a!f��0w��3dx\\x1d\"���C(�}�0|q�*��\\x0b�a!f�4��.�sKg\\x10\\x11]=9NԂ\\x06��u���K_�e\\x06*���\\x19Px��%��\\x03�3��\\x1e\"E?\\x0f���+H�]Q�k����8�\"�\\x1d\\x114v�2\\x10���咯̸|�x.\\\\�-b�I�B���@�L��CJ]XWQ����uQ�kQ\\x13\\x7f�N�1\\x00���2\\x17�03\\x10�\\\\\\x04�@!�H�BJqG\\'+�R�U\\\\[����GXC;��Ԏ�q�!\\x04�r�s=�\\x02rԴ\\x0b���_S�%�ph�a\\x12Y\\x05\\x02����c���P�9�'\n",
            "\n"
          ]
        }
      ]
    },
    {
      "cell_type": "markdown",
      "source": [
        "### Tipos de datos registrados con Scapy"
      ],
      "metadata": {
        "id": "CVc-2N9FLXiW"
      }
    },
    {
      "cell_type": "code",
      "source": [
        "print(type(ethernet_frame))\n",
        "print(type(ip_packet))\n",
        "print(type(segment))\n",
        "\n",
        "# Packets can be filtered on layers ie) ethernet_frame[scapy.layers.l2.Ether]\n",
        "ethernet_type = type(ethernet_frame)\n",
        "ip_type = type(ip_packet)\n",
        "tcp_type = type(segment)\n",
        "print(\"Ethernet\",pcap[ethernet_type])\n",
        "print(\"IP\", pcap[ip_type])\n",
        "print(\"TCP\", pcap[tcp_type])\n",
        "\n",
        "# Scapy provides this via import statements\n",
        "from scapy.layers.l2 import Ether\n",
        "from scapy.layers.inet import IP\n",
        "from scapy.layers.inet import TCP, UDP\n",
        "\n",
        "print(\"UDP\", pcap[UDP])"
      ],
      "metadata": {
        "colab": {
          "base_uri": "https://localhost:8080/"
        },
        "id": "ZNEXnWJgLdd8",
        "outputId": "4fe584cb-fa53-4f5f-fe73-83ea1db208f1"
      },
      "execution_count": 23,
      "outputs": [
        {
          "output_type": "stream",
          "name": "stdout",
          "text": [
            "<class 'scapy.layers.l2.Ether'>\n",
            "<class 'scapy.layers.inet.IP'>\n",
            "<class 'scapy.layers.inet.UDP'>\n",
            "Ethernet <Ether from analisis_paquetes.pcap: TCP:0 UDP:62 ICMP:0 Other:0>\n",
            "IP <IP from analisis_paquetes.pcap: TCP:0 UDP:62 ICMP:0 Other:0>\n",
            "TCP <UDP from analisis_paquetes.pcap: TCP:0 UDP:62 ICMP:0 Other:0>\n",
            "UDP <UDP from analisis_paquetes.pcap: TCP:0 UDP:62 ICMP:0 Other:0>\n"
          ]
        }
      ]
    },
    {
      "cell_type": "markdown",
      "source": [
        "### Se guarda la info en un Data Set"
      ],
      "metadata": {
        "id": "GxXaK_tWLtqb"
      }
    },
    {
      "cell_type": "code",
      "source": [
        "# Obtenemos los campos de IP/TCP/UDP que seran las columnas de nuestro DF\n",
        "ip_fields = [field.name for field in IP().fields_desc]\n",
        "tcp_fields = [field.name for field in TCP().fields_desc]\n",
        "udp_fields = [field.name for field in UDP().fields_desc]\n",
        "\n",
        "#Concatenamos todos los campos\n",
        "dataframe_fields = ip_fields + ['time'] + tcp_fields + ['payload','payload_raw','payload_hex']\n",
        "\n",
        "# Creamos un DF en blanco con los campos como columnas\n",
        "df = pd.DataFrame(columns=dataframe_fields)\n",
        "for packet in pcap[IP]:\n",
        "    # Obtenemos los valores de los campos de cada fila\n",
        "    field_values = []\n",
        "    # A;adimos todos los valores de los campos de IP al df\n",
        "    for field in ip_fields:\n",
        "        if field == 'options':\n",
        "            # Obtenemos el numero de opciones del IP Header\n",
        "            field_values.append(len(packet[IP].fields[field]))\n",
        "        else:\n",
        "            field_values.append(packet[IP].fields[field])\n",
        "    \n",
        "    field_values.append(packet.time)\n",
        "    \n",
        "    layer_type = type(packet[IP].payload)\n",
        "    for field in tcp_fields:\n",
        "        try:\n",
        "            if field == 'options':\n",
        "                field_values.append(len(packet[layer_type].fields[field]))\n",
        "            else:\n",
        "                field_values.append(packet[layer_type].fields[field])\n",
        "        except:\n",
        "            field_values.append(None)\n",
        "    \n",
        "    # Agregamos el payload\n",
        "    field_values.append(len(packet[layer_type].payload))\n",
        "    field_values.append(packet[layer_type].payload.original)\n",
        "    field_values.append(binascii.hexlify(packet[layer_type].payload.original))\n",
        "    # Agregamos la fila al df\n",
        "    df_append = pd.DataFrame([field_values], columns=dataframe_fields)\n",
        "    df = pd.concat([df, df_append], axis=0)\n",
        "\n",
        "# Reset Index\n",
        "df = df.reset_index()\n",
        "# Drop old index column\n",
        "df = df.drop(columns=\"index\")\n",
        "\n",
        "print(df.head(5))"
      ],
      "metadata": {
        "colab": {
          "base_uri": "https://localhost:8080/"
        },
        "id": "OxTmw0J2Lsp9",
        "outputId": "0f6adab7-3275-47b7-d010-5077ef5455fd"
      },
      "execution_count": 25,
      "outputs": [
        {
          "output_type": "stream",
          "name": "stdout",
          "text": [
            "  version ihl tos   len     id flags frag  ttl proto chksum  ... dataofs  \\\n",
            "0       4   5   0   961      1          0   64    17  21222  ...    None   \n",
            "1       4   5  32    84  58919          0  122    17  13836  ...    None   \n",
            "2       4   5   0   975      1          0   64    17  21208  ...    None   \n",
            "3       4   5  32    84  59493          0  122    17  13262  ...    None   \n",
            "4       4   5   0  1012      1          0   64    17  21171  ...    None   \n",
            "\n",
            "  reserved flags window chksum urgptr options payload  \\\n",
            "0     None  None   None  62990   None    None     933   \n",
            "1     None  None   None  65061   None    None      56   \n",
            "2     None  None   None  36378   None    None     947   \n",
            "3     None  None   None  65063   None    None      56   \n",
            "4     None  None   None  63846   None    None     984   \n",
            "\n",
            "                                         payload_raw  \\\n",
            "0  b'\\x00\\x0c\\x01\\x00\\x00\\x01\\x00\\x00\\x00\\x00\\x00...   \n",
            "1  b'\\x00\\x0c\\x81\\x80\\x00\\x01\\x00\\x01\\x00\\x00\\x00...   \n",
            "2  b'\\x00\\x0c\\x01\\x00\\x00\\x01\\x00\\x00\\x00\\x00\\x00...   \n",
            "3  b'\\x00\\x0c\\x81\\x80\\x00\\x01\\x00\\x01\\x00\\x00\\x00...   \n",
            "4  b'\\x00\\x0c\\x01\\x00\\x00\\x01\\x00\\x00\\x00\\x00\\x00...   \n",
            "\n",
            "                                         payload_hex  \n",
            "0  b'000c0100000100000000000006676f6f676c6503636f...  \n",
            "1  b'000c8180000100010000000006676f6f676c6503636f...  \n",
            "2  b'000c0100000100000000000006676f6f676c6503636f...  \n",
            "3  b'000c8180000100010000000006676f6f676c6503636f...  \n",
            "4  b'000c0100000100000000000006676f6f676c6503636f...  \n",
            "\n",
            "[5 rows x 28 columns]\n"
          ]
        }
      ]
    },
    {
      "cell_type": "code",
      "source": [
        "df[['src','dst','sport','dport']]"
      ],
      "metadata": {
        "colab": {
          "base_uri": "https://localhost:8080/",
          "height": 423
        },
        "id": "m8XIXSjzL6EG",
        "outputId": "2b5536ff-de4e-408d-da61-96e00d3db97a"
      },
      "execution_count": 26,
      "outputs": [
        {
          "output_type": "execute_result",
          "data": {
            "text/plain": [
              "            src          dst sport dport\n",
              "0    10.1.10.53  84.54.22.33    53    53\n",
              "1   84.54.22.33   10.1.10.53    53    53\n",
              "2    10.1.10.53  84.54.22.33    53    53\n",
              "3   84.54.22.33   10.1.10.53    53    53\n",
              "4    10.1.10.53  84.54.22.33    53    53\n",
              "..          ...          ...   ...   ...\n",
              "57  84.54.22.33   10.1.10.53    53    53\n",
              "58   10.1.10.53  84.54.22.33    53    53\n",
              "59  84.54.22.33   10.1.10.53    53    53\n",
              "60   10.1.10.53  84.54.22.33    53    53\n",
              "61  84.54.22.33   10.1.10.53    53    53\n",
              "\n",
              "[62 rows x 4 columns]"
            ],
            "text/html": [
              "\n",
              "  <div id=\"df-0eb1a430-dce3-46f8-986f-80d560ed97ba\">\n",
              "    <div class=\"colab-df-container\">\n",
              "      <div>\n",
              "<style scoped>\n",
              "    .dataframe tbody tr th:only-of-type {\n",
              "        vertical-align: middle;\n",
              "    }\n",
              "\n",
              "    .dataframe tbody tr th {\n",
              "        vertical-align: top;\n",
              "    }\n",
              "\n",
              "    .dataframe thead th {\n",
              "        text-align: right;\n",
              "    }\n",
              "</style>\n",
              "<table border=\"1\" class=\"dataframe\">\n",
              "  <thead>\n",
              "    <tr style=\"text-align: right;\">\n",
              "      <th></th>\n",
              "      <th>src</th>\n",
              "      <th>dst</th>\n",
              "      <th>sport</th>\n",
              "      <th>dport</th>\n",
              "    </tr>\n",
              "  </thead>\n",
              "  <tbody>\n",
              "    <tr>\n",
              "      <th>0</th>\n",
              "      <td>10.1.10.53</td>\n",
              "      <td>84.54.22.33</td>\n",
              "      <td>53</td>\n",
              "      <td>53</td>\n",
              "    </tr>\n",
              "    <tr>\n",
              "      <th>1</th>\n",
              "      <td>84.54.22.33</td>\n",
              "      <td>10.1.10.53</td>\n",
              "      <td>53</td>\n",
              "      <td>53</td>\n",
              "    </tr>\n",
              "    <tr>\n",
              "      <th>2</th>\n",
              "      <td>10.1.10.53</td>\n",
              "      <td>84.54.22.33</td>\n",
              "      <td>53</td>\n",
              "      <td>53</td>\n",
              "    </tr>\n",
              "    <tr>\n",
              "      <th>3</th>\n",
              "      <td>84.54.22.33</td>\n",
              "      <td>10.1.10.53</td>\n",
              "      <td>53</td>\n",
              "      <td>53</td>\n",
              "    </tr>\n",
              "    <tr>\n",
              "      <th>4</th>\n",
              "      <td>10.1.10.53</td>\n",
              "      <td>84.54.22.33</td>\n",
              "      <td>53</td>\n",
              "      <td>53</td>\n",
              "    </tr>\n",
              "    <tr>\n",
              "      <th>...</th>\n",
              "      <td>...</td>\n",
              "      <td>...</td>\n",
              "      <td>...</td>\n",
              "      <td>...</td>\n",
              "    </tr>\n",
              "    <tr>\n",
              "      <th>57</th>\n",
              "      <td>84.54.22.33</td>\n",
              "      <td>10.1.10.53</td>\n",
              "      <td>53</td>\n",
              "      <td>53</td>\n",
              "    </tr>\n",
              "    <tr>\n",
              "      <th>58</th>\n",
              "      <td>10.1.10.53</td>\n",
              "      <td>84.54.22.33</td>\n",
              "      <td>53</td>\n",
              "      <td>53</td>\n",
              "    </tr>\n",
              "    <tr>\n",
              "      <th>59</th>\n",
              "      <td>84.54.22.33</td>\n",
              "      <td>10.1.10.53</td>\n",
              "      <td>53</td>\n",
              "      <td>53</td>\n",
              "    </tr>\n",
              "    <tr>\n",
              "      <th>60</th>\n",
              "      <td>10.1.10.53</td>\n",
              "      <td>84.54.22.33</td>\n",
              "      <td>53</td>\n",
              "      <td>53</td>\n",
              "    </tr>\n",
              "    <tr>\n",
              "      <th>61</th>\n",
              "      <td>84.54.22.33</td>\n",
              "      <td>10.1.10.53</td>\n",
              "      <td>53</td>\n",
              "      <td>53</td>\n",
              "    </tr>\n",
              "  </tbody>\n",
              "</table>\n",
              "<p>62 rows × 4 columns</p>\n",
              "</div>\n",
              "      <button class=\"colab-df-convert\" onclick=\"convertToInteractive('df-0eb1a430-dce3-46f8-986f-80d560ed97ba')\"\n",
              "              title=\"Convert this dataframe to an interactive table.\"\n",
              "              style=\"display:none;\">\n",
              "        \n",
              "  <svg xmlns=\"http://www.w3.org/2000/svg\" height=\"24px\"viewBox=\"0 0 24 24\"\n",
              "       width=\"24px\">\n",
              "    <path d=\"M0 0h24v24H0V0z\" fill=\"none\"/>\n",
              "    <path d=\"M18.56 5.44l.94 2.06.94-2.06 2.06-.94-2.06-.94-.94-2.06-.94 2.06-2.06.94zm-11 1L8.5 8.5l.94-2.06 2.06-.94-2.06-.94L8.5 2.5l-.94 2.06-2.06.94zm10 10l.94 2.06.94-2.06 2.06-.94-2.06-.94-.94-2.06-.94 2.06-2.06.94z\"/><path d=\"M17.41 7.96l-1.37-1.37c-.4-.4-.92-.59-1.43-.59-.52 0-1.04.2-1.43.59L10.3 9.45l-7.72 7.72c-.78.78-.78 2.05 0 2.83L4 21.41c.39.39.9.59 1.41.59.51 0 1.02-.2 1.41-.59l7.78-7.78 2.81-2.81c.8-.78.8-2.07 0-2.86zM5.41 20L4 18.59l7.72-7.72 1.47 1.35L5.41 20z\"/>\n",
              "  </svg>\n",
              "      </button>\n",
              "      \n",
              "  <style>\n",
              "    .colab-df-container {\n",
              "      display:flex;\n",
              "      flex-wrap:wrap;\n",
              "      gap: 12px;\n",
              "    }\n",
              "\n",
              "    .colab-df-convert {\n",
              "      background-color: #E8F0FE;\n",
              "      border: none;\n",
              "      border-radius: 50%;\n",
              "      cursor: pointer;\n",
              "      display: none;\n",
              "      fill: #1967D2;\n",
              "      height: 32px;\n",
              "      padding: 0 0 0 0;\n",
              "      width: 32px;\n",
              "    }\n",
              "\n",
              "    .colab-df-convert:hover {\n",
              "      background-color: #E2EBFA;\n",
              "      box-shadow: 0px 1px 2px rgba(60, 64, 67, 0.3), 0px 1px 3px 1px rgba(60, 64, 67, 0.15);\n",
              "      fill: #174EA6;\n",
              "    }\n",
              "\n",
              "    [theme=dark] .colab-df-convert {\n",
              "      background-color: #3B4455;\n",
              "      fill: #D2E3FC;\n",
              "    }\n",
              "\n",
              "    [theme=dark] .colab-df-convert:hover {\n",
              "      background-color: #434B5C;\n",
              "      box-shadow: 0px 1px 3px 1px rgba(0, 0, 0, 0.15);\n",
              "      filter: drop-shadow(0px 1px 2px rgba(0, 0, 0, 0.3));\n",
              "      fill: #FFFFFF;\n",
              "    }\n",
              "  </style>\n",
              "\n",
              "      <script>\n",
              "        const buttonEl =\n",
              "          document.querySelector('#df-0eb1a430-dce3-46f8-986f-80d560ed97ba button.colab-df-convert');\n",
              "        buttonEl.style.display =\n",
              "          google.colab.kernel.accessAllowed ? 'block' : 'none';\n",
              "\n",
              "        async function convertToInteractive(key) {\n",
              "          const element = document.querySelector('#df-0eb1a430-dce3-46f8-986f-80d560ed97ba');\n",
              "          const dataTable =\n",
              "            await google.colab.kernel.invokeFunction('convertToInteractive',\n",
              "                                                     [key], {});\n",
              "          if (!dataTable) return;\n",
              "\n",
              "          const docLinkHtml = 'Like what you see? Visit the ' +\n",
              "            '<a target=\"_blank\" href=https://colab.research.google.com/notebooks/data_table.ipynb>data table notebook</a>'\n",
              "            + ' to learn more about interactive tables.';\n",
              "          element.innerHTML = '';\n",
              "          dataTable['output_type'] = 'display_data';\n",
              "          await google.colab.output.renderOutput(dataTable, element);\n",
              "          const docLink = document.createElement('div');\n",
              "          docLink.innerHTML = docLinkHtml;\n",
              "          element.appendChild(docLink);\n",
              "        }\n",
              "      </script>\n",
              "    </div>\n",
              "  </div>\n",
              "  "
            ]
          },
          "metadata": {},
          "execution_count": 26
        }
      ]
    },
    {
      "cell_type": "code",
      "source": [
        "#Calcular estadisticas\n",
        "print(\"# Top Source Address\")\n",
        "print(df['src'].describe(),'\\n\\n')"
      ],
      "metadata": {
        "colab": {
          "base_uri": "https://localhost:8080/"
        },
        "id": "BuZHwtL0L-ce",
        "outputId": "0a7bc248-790f-41ca-ea14-2f7e1382955e"
      },
      "execution_count": 27,
      "outputs": [
        {
          "output_type": "stream",
          "name": "stdout",
          "text": [
            "# Top Source Address\n",
            "count             62\n",
            "unique             3\n",
            "top       10.1.10.53\n",
            "freq              31\n",
            "Name: src, dtype: object \n",
            "\n",
            "\n"
          ]
        }
      ]
    },
    {
      "cell_type": "code",
      "source": [
        "#¿Quien es la IP de origen mas frecuente?\n",
        "frequent_address = df['src'].describe()['top']\n",
        "\n",
        "\n",
        "# A que IPs les habla la IP mas frecuente\n",
        "print(df[df['src'] == frequent_address]['dst'].unique(),\"\\n\\n\")"
      ],
      "metadata": {
        "colab": {
          "base_uri": "https://localhost:8080/"
        },
        "id": "W4kovrg8MCBI",
        "outputId": "9a44e5cd-7b07-4f71-dead-241cce6ec5ac"
      },
      "execution_count": 28,
      "outputs": [
        {
          "output_type": "stream",
          "name": "stdout",
          "text": [
            "['84.54.22.33' '75.75.75.75'] \n",
            "\n",
            "\n"
          ]
        }
      ]
    },
    {
      "cell_type": "code",
      "source": [
        "print(df)"
      ],
      "metadata": {
        "colab": {
          "base_uri": "https://localhost:8080/"
        },
        "id": "6imiFqQeO9AG",
        "outputId": "6dced267-fed4-4bea-f6da-a4b14b2f468d"
      },
      "execution_count": 29,
      "outputs": [
        {
          "output_type": "stream",
          "name": "stdout",
          "text": [
            "   version ihl tos   len     id flags frag  ttl proto chksum  ... dataofs  \\\n",
            "0        4   5   0   961      1          0   64    17  21222  ...    None   \n",
            "1        4   5  32    84  58919          0  122    17  13836  ...    None   \n",
            "2        4   5   0   975      1          0   64    17  21208  ...    None   \n",
            "3        4   5  32    84  59493          0  122    17  13262  ...    None   \n",
            "4        4   5   0  1012      1          0   64    17  21171  ...    None   \n",
            "..     ...  ..  ..   ...    ...   ...  ...  ...   ...    ...  ...     ...   \n",
            "57       4   5  32    84   8744          0  122    17  64011  ...    None   \n",
            "58       4   5   0   969      1          0   64    17  21214  ...    None   \n",
            "59       4   5  32    84   9344          0  122    17  63411  ...    None   \n",
            "60       4   5   0   588      1          0   64    17  21595  ...    None   \n",
            "61       4   5  32    84  10094          0  122    17  62661  ...    None   \n",
            "\n",
            "   reserved flags window chksum urgptr options payload  \\\n",
            "0      None  None   None  62990   None    None     933   \n",
            "1      None  None   None  65061   None    None      56   \n",
            "2      None  None   None  36378   None    None     947   \n",
            "3      None  None   None  65063   None    None      56   \n",
            "4      None  None   None  63846   None    None     984   \n",
            "..      ...   ...    ...    ...    ...     ...     ...   \n",
            "57     None  None   None  65088   None    None      56   \n",
            "58     None  None   None    671   None    None     941   \n",
            "59     None  None   None  65089   None    None      56   \n",
            "60     None  None   None  54406   None    None     560   \n",
            "61     None  None   None  65090   None    None      56   \n",
            "\n",
            "                                          payload_raw  \\\n",
            "0   b'\\x00\\x0c\\x01\\x00\\x00\\x01\\x00\\x00\\x00\\x00\\x00...   \n",
            "1   b'\\x00\\x0c\\x81\\x80\\x00\\x01\\x00\\x01\\x00\\x00\\x00...   \n",
            "2   b'\\x00\\x0c\\x01\\x00\\x00\\x01\\x00\\x00\\x00\\x00\\x00...   \n",
            "3   b'\\x00\\x0c\\x81\\x80\\x00\\x01\\x00\\x01\\x00\\x00\\x00...   \n",
            "4   b'\\x00\\x0c\\x01\\x00\\x00\\x01\\x00\\x00\\x00\\x00\\x00...   \n",
            "..                                                ...   \n",
            "57  b'\\x00\\x0c\\x81\\x80\\x00\\x01\\x00\\x01\\x00\\x00\\x00...   \n",
            "58  b'\\x00\\x0c\\x01\\x00\\x00\\x01\\x00\\x00\\x00\\x00\\x00...   \n",
            "59  b'\\x00\\x0c\\x81\\x80\\x00\\x01\\x00\\x01\\x00\\x00\\x00...   \n",
            "60  b'\\x00\\x0c\\x01\\x00\\x00\\x01\\x00\\x00\\x00\\x00\\x00...   \n",
            "61  b'\\x00\\x0c\\x81\\x80\\x00\\x01\\x00\\x01\\x00\\x00\\x00...   \n",
            "\n",
            "                                          payload_hex  \n",
            "0   b'000c0100000100000000000006676f6f676c6503636f...  \n",
            "1   b'000c8180000100010000000006676f6f676c6503636f...  \n",
            "2   b'000c0100000100000000000006676f6f676c6503636f...  \n",
            "3   b'000c8180000100010000000006676f6f676c6503636f...  \n",
            "4   b'000c0100000100000000000006676f6f676c6503636f...  \n",
            "..                                                ...  \n",
            "57  b'000c8180000100010000000006676f6f676c6503636f...  \n",
            "58  b'000c0100000100000000000006676f6f676c6503636f...  \n",
            "59  b'000c8180000100010000000006676f6f676c6503636f...  \n",
            "60  b'000c0100000100000000000006676f6f676c6503636f...  \n",
            "61  b'000c8180000100010000000006676f6f676c6503636f...  \n",
            "\n",
            "[62 rows x 28 columns]\n"
          ]
        }
      ]
    },
    {
      "cell_type": "code",
      "source": [
        "from google.colab import files\n",
        "\n",
        "df.to_csv('packets.csv', encoding = 'utf-8-sig') \n",
        "files.download('packets.csv')"
      ],
      "metadata": {
        "colab": {
          "base_uri": "https://localhost:8080/",
          "height": 17
        },
        "id": "WqEwhuqJPQEP",
        "outputId": "5b67ae64-2289-47a6-c1b5-960491bf549a"
      },
      "execution_count": 30,
      "outputs": [
        {
          "output_type": "display_data",
          "data": {
            "text/plain": [
              "<IPython.core.display.Javascript object>"
            ],
            "application/javascript": [
              "\n",
              "    async function download(id, filename, size) {\n",
              "      if (!google.colab.kernel.accessAllowed) {\n",
              "        return;\n",
              "      }\n",
              "      const div = document.createElement('div');\n",
              "      const label = document.createElement('label');\n",
              "      label.textContent = `Downloading \"${filename}\": `;\n",
              "      div.appendChild(label);\n",
              "      const progress = document.createElement('progress');\n",
              "      progress.max = size;\n",
              "      div.appendChild(progress);\n",
              "      document.body.appendChild(div);\n",
              "\n",
              "      const buffers = [];\n",
              "      let downloaded = 0;\n",
              "\n",
              "      const channel = await google.colab.kernel.comms.open(id);\n",
              "      // Send a message to notify the kernel that we're ready.\n",
              "      channel.send({})\n",
              "\n",
              "      for await (const message of channel.messages) {\n",
              "        // Send a message to notify the kernel that we're ready.\n",
              "        channel.send({})\n",
              "        if (message.buffers) {\n",
              "          for (const buffer of message.buffers) {\n",
              "            buffers.push(buffer);\n",
              "            downloaded += buffer.byteLength;\n",
              "            progress.value = downloaded;\n",
              "          }\n",
              "        }\n",
              "      }\n",
              "      const blob = new Blob(buffers, {type: 'application/binary'});\n",
              "      const a = document.createElement('a');\n",
              "      a.href = window.URL.createObjectURL(blob);\n",
              "      a.download = filename;\n",
              "      div.appendChild(a);\n",
              "      a.click();\n",
              "      div.remove();\n",
              "    }\n",
              "  "
            ]
          },
          "metadata": {}
        },
        {
          "output_type": "display_data",
          "data": {
            "text/plain": [
              "<IPython.core.display.Javascript object>"
            ],
            "application/javascript": [
              "download(\"download_18c173ec-55de-40b1-be3e-e32ec354ec64\", \"packets.csv\", 166969)"
            ]
          },
          "metadata": {}
        }
      ]
    }
  ]
}